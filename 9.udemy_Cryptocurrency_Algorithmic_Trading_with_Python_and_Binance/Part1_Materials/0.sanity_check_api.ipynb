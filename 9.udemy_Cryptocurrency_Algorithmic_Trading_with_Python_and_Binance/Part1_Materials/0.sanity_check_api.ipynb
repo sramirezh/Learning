{
 "cells": [
  {
   "cell_type": "code",
   "execution_count": 2,
   "id": "98b8f381",
   "metadata": {},
   "outputs": [],
   "source": [
    "import json"
   ]
  },
  {
   "cell_type": "code",
   "execution_count": 7,
   "id": "1ff1d458",
   "metadata": {},
   "outputs": [],
   "source": [
    "# load the api_key and secret_key from the json file\n",
    "with open('binance_test_api_keys.json', 'r') as f:\n",
    "    keys = json.load(f)\n",
    "    api_key = keys['api_key']\n",
    "    secret_key = keys['secret_key']"
   ]
  },
  {
   "cell_type": "code",
   "execution_count": 9,
   "id": "b5989287",
   "metadata": {},
   "outputs": [
    {
     "name": "stdout",
     "output_type": "stream",
     "text": [
      "Ping: {}\n",
      "Symbols: 1467\n"
     ]
    },
    {
     "name": "stderr",
     "output_type": "stream",
     "text": [
      "/var/folders/w0/_wx5t6ns7wjdfyc38yc9c3l80000gn/T/ipykernel_29401/31506547.py:20: DeprecationWarning: datetime.datetime.utcfromtimestamp() is deprecated and scheduled for removal in a future version. Use timezone-aware objects to represent datetimes in UTC: datetime.datetime.fromtimestamp(timestamp, datetime.UTC).\n",
      "  server_dt = datetime.datetime.utcfromtimestamp(server_ms/1000)\n",
      "/var/folders/w0/_wx5t6ns7wjdfyc38yc9c3l80000gn/T/ipykernel_29401/31506547.py:21: DeprecationWarning: datetime.datetime.utcnow() is deprecated and scheduled for removal in a future version. Use timezone-aware objects to represent datetimes in UTC: datetime.datetime.now(datetime.UTC).\n",
      "  local_dt = datetime.datetime.utcnow()\n"
     ]
    },
    {
     "name": "stdout",
     "output_type": "stream",
     "text": [
      "Server UTC: 2025-08-12 01:11:00.601000  Local UTC: 2025-08-12 01:11:00.642696  Skew (s): 0.041696\n",
      "Account OK: SPOT\n"
     ]
    }
   ],
   "source": [
    "from binance.client import Client\n",
    "from binance.exceptions import BinanceAPIException\n",
    "import os, time, datetime\n",
    "\n",
    "API_KEY = api_key\n",
    "API_SECRET = secret_key\n",
    "\n",
    "# Choose ONE of these:\n",
    "# client = Client(API_KEY, API_SECRET)                 # mainnet .com spot\n",
    "client = Client(API_KEY, API_SECRET, testnet=True) # testnet\n",
    "# client = Client(API_KEY, API_SECRET, tld='us')     # binance.us\n",
    "\n",
    "# 1) Public endpoints should work regardless of key\n",
    "print(\"Ping:\", client.ping())\n",
    "info = client.get_exchange_info()\n",
    "print(\"Symbols:\", len(info[\"symbols\"]))\n",
    "\n",
    "# 2) Check server time vs local\n",
    "server_ms = client.get_server_time()[\"serverTime\"]\n",
    "server_dt = datetime.datetime.utcfromtimestamp(server_ms/1000)\n",
    "local_dt = datetime.datetime.utcnow()\n",
    "print(\"Server UTC:\", server_dt, \" Local UTC:\", local_dt, \" Skew (s):\", (local_dt - server_dt).total_seconds())\n",
    "\n",
    "# 3) Signed endpoint (needs correct env/key/secret/perms/time)\n",
    "try:\n",
    "    acct = client.get_account(recvWindow=5000)\n",
    "    print(\"Account OK:\", acct.get(\"accountType\"))\n",
    "except BinanceAPIException as e:\n",
    "    print(\"Signed call failed:\", e.status_code, e.code, e.message)"
   ]
  },
  {
   "cell_type": "code",
   "execution_count": null,
   "id": "8a857883",
   "metadata": {},
   "outputs": [],
   "source": []
  },
  {
   "cell_type": "code",
   "execution_count": null,
   "id": "a6de1d07",
   "metadata": {},
   "outputs": [],
   "source": []
  }
 ],
 "metadata": {
  "kernelspec": {
   "display_name": "udemy-cryptocurrency-algorithmic-trading-with-python-and-binance",
   "language": "python",
   "name": "python3"
  },
  "language_info": {
   "codemirror_mode": {
    "name": "ipython",
    "version": 3
   },
   "file_extension": ".py",
   "mimetype": "text/x-python",
   "name": "python",
   "nbconvert_exporter": "python",
   "pygments_lexer": "ipython3",
   "version": "3.12.11"
  }
 },
 "nbformat": 4,
 "nbformat_minor": 5
}
