{
 "metadata": {
  "language_info": {
   "codemirror_mode": {
    "name": "ipython",
    "version": 3
   },
   "file_extension": ".py",
   "mimetype": "text/x-python",
   "name": "python",
   "nbconvert_exporter": "python",
   "pygments_lexer": "ipython3",
   "version": "3.7.9"
  },
  "orig_nbformat": 2,
  "kernelspec": {
   "name": "python379jvsc74a57bd0cacdde318d08a46d07035f2dd41348c7e0164a68186675573f13e987da9ac40f",
   "display_name": "Python 3.7.9 64-bit ('simon3': conda)"
  }
 },
 "nbformat": 4,
 "nbformat_minor": 2,
 "cells": [
  {
   "cell_type": "code",
   "execution_count": 7,
   "metadata": {},
   "outputs": [],
   "source": [
    "def hanoi(disks, source, middle, destination):\n",
    "    \n",
    "    #base case, we manipulate the smallest plate in the base case\n",
    "    if disks == 0:\n",
    "        print(\"Disk %s from %s to %s\" %(disks, source, destination))\n",
    "        return\n",
    "\n",
    "    hanoi(disks-1, source, destination, middle)\n",
    "    print('Disk %s from %s to %s ' %(disks, source, destination))\n",
    "    hanoi(disks-1, middle, source, destination)"
   ]
  },
  {
   "source": [
    "To understand properly, watch the stack video"
   ],
   "cell_type": "markdown",
   "metadata": {}
  },
  {
   "cell_type": "code",
   "execution_count": 8,
   "metadata": {},
   "outputs": [
    {
     "output_type": "stream",
     "name": "stdout",
     "text": [
      "Disk 0 from A to C\nDisk 1 from A to B \nDisk 0 from C to B\nDisk 2 from A to C \nDisk 0 from B to A\nDisk 1 from B to C \nDisk 0 from A to C\n"
     ]
    }
   ],
   "source": [
    "hanoi(2, 'A', 'B', 'C')"
   ]
  },
  {
   "cell_type": "code",
   "execution_count": null,
   "metadata": {},
   "outputs": [],
   "source": []
  }
 ]
}