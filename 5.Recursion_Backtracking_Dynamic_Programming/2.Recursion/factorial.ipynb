{
 "metadata": {
  "language_info": {
   "codemirror_mode": {
    "name": "ipython",
    "version": 3
   },
   "file_extension": ".py",
   "mimetype": "text/x-python",
   "name": "python",
   "nbconvert_exporter": "python",
   "pygments_lexer": "ipython3",
   "version": "3.7.9"
  },
  "orig_nbformat": 2,
  "kernelspec": {
   "name": "python379jvsc74a57bd0cacdde318d08a46d07035f2dd41348c7e0164a68186675573f13e987da9ac40f",
   "display_name": "Python 3.7.9 64-bit ('simon3': conda)"
  }
 },
 "nbformat": 4,
 "nbformat_minor": 2,
 "cells": [
  {
   "cell_type": "code",
   "execution_count": 3,
   "metadata": {},
   "outputs": [],
   "source": [
    "def factorial_head(n):\n",
    "    #base case\n",
    "    if n == 0:\n",
    "        return 1\n",
    "\n",
    "    #Use recursion\n",
    "    result1 = factorial_head(n-1)\n",
    "\n",
    "    # We do some opearation\n",
    "    result2 = n * result1\n",
    "\n",
    "    return result2"
   ]
  },
  {
   "cell_type": "code",
   "execution_count": 5,
   "metadata": {},
   "outputs": [
    {
     "output_type": "stream",
     "name": "stdout",
     "text": [
      "1.86 µs ± 130 ns per loop (mean ± std. dev. of 7 runs, 1000000 loops each)\n"
     ]
    }
   ],
   "source": [
    "%timeit factorial_head(10)"
   ]
  },
  {
   "source": [
    "Let's convert from head to tail"
   ],
   "cell_type": "markdown",
   "metadata": {}
  },
  {
   "cell_type": "code",
   "execution_count": 6,
   "metadata": {},
   "outputs": [],
   "source": [
    "def factorial_tail(n, accumulator = 1):\n",
    "    \n",
    "    #base case\n",
    "    if n == 1:\n",
    "        return 1\n",
    "\n",
    "    return factorial_tail(n-1, n * accumulator)"
   ]
  },
  {
   "cell_type": "code",
   "execution_count": 7,
   "metadata": {},
   "outputs": [
    {
     "output_type": "stream",
     "name": "stdout",
     "text": [
      "2.89 µs ± 519 ns per loop (mean ± std. dev. of 7 runs, 1000000 loops each)\n"
     ]
    }
   ],
   "source": [
    "%timeit factorial_tail(10)"
   ]
  }
 ]
}