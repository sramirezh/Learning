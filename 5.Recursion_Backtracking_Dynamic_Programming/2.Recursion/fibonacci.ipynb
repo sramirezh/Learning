{
 "metadata": {
  "language_info": {
   "codemirror_mode": {
    "name": "ipython",
    "version": 3
   },
   "file_extension": ".py",
   "mimetype": "text/x-python",
   "name": "python",
   "nbconvert_exporter": "python",
   "pygments_lexer": "ipython3",
   "version": "3.7.9"
  },
  "orig_nbformat": 2,
  "kernelspec": {
   "name": "python379jvsc74a57bd0cacdde318d08a46d07035f2dd41348c7e0164a68186675573f13e987da9ac40f",
   "display_name": "Python 3.7.9 64-bit ('simon3': conda)"
  }
 },
 "nbformat": 4,
 "nbformat_minor": 2,
 "cells": [
  {
   "cell_type": "code",
   "execution_count": 4,
   "metadata": {},
   "outputs": [],
   "source": [
    "def fibonacci_head(n):\n",
    "\n",
    "    #base cases\n",
    "    if n == 0:\n",
    "        return 0\n",
    "    if n == 1:\n",
    "        return 1\n",
    "    \n",
    "    # Call recursions\n",
    "    fib_1 = fibonacci_head(n - 1)\n",
    "    fib_2 = fibonacci_head(n - 2)\n",
    "\n",
    "    return fib_1 + fib_2"
   ]
  },
  {
   "cell_type": "code",
   "execution_count": 5,
   "metadata": {},
   "outputs": [
    {
     "output_type": "stream",
     "name": "stdout",
     "text": [
      "36.6 µs ± 8.26 µs per loop (mean ± std. dev. of 7 runs, 10000 loops each)\n"
     ]
    }
   ],
   "source": [
    "%timeit fibonacci_head(10)"
   ]
  },
  {
   "cell_type": "code",
   "execution_count": 5,
   "metadata": {},
   "outputs": [],
   "source": [
    "def fibonacci_tail(n, a=0,b=1):\n",
    "    print(\"n = \" ,n, \"a = \",a,\"b = \", b)\n",
    "    if n == 0: \n",
    "        return a\n",
    "    if n == 1:\n",
    "        return b\n",
    " \n",
    "    return fibonacci_tail(n-1, b, a+b)"
   ]
  },
  {
   "cell_type": "code",
   "execution_count": 6,
   "metadata": {},
   "outputs": [
    {
     "output_type": "stream",
     "name": "stdout",
     "text": [
      "n =  10 a =  0 b =  1\nn =  9 a =  1 b =  1\nn =  8 a =  1 b =  2\nn =  7 a =  2 b =  3\nn =  6 a =  3 b =  5\nn =  5 a =  5 b =  8\nn =  4 a =  8 b =  13\nn =  3 a =  13 b =  21\nn =  2 a =  21 b =  34\nn =  1 a =  34 b =  55\n"
     ]
    },
    {
     "output_type": "execute_result",
     "data": {
      "text/plain": [
       "55"
      ]
     },
     "metadata": {},
     "execution_count": 6
    }
   ],
   "source": [
    "fibonacci_tail(10)"
   ]
  },
  {
   "cell_type": "code",
   "execution_count": 18,
   "metadata": {},
   "outputs": [
    {
     "output_type": "stream",
     "name": "stdout",
     "text": [
      "24.3 µs ± 2.13 µs per loop (mean ± std. dev. of 7 runs, 10000 loops each)\n"
     ]
    }
   ],
   "source": [
    "%timeit fibonacci_tail(100)"
   ]
  },
  {
   "cell_type": "code",
   "execution_count": 10,
   "metadata": {},
   "outputs": [],
   "source": [
    "def fibonacci_cache(n):\n",
    "    \n",
    "    # Initialising the memoisation\n",
    "    cache = {0:0, 1:1}\n",
    "\n",
    "    return fibonacci_calc(n, cache)\n",
    "\n",
    "def fibonacci_calc(n, cache):\n",
    "\n",
    "    if n in cache:\n",
    "        return cache[n]\n",
    "    else:\n",
    "        fib = fibonacci_calc(n-1, cache)+fibonacci_calc(n-2, cache)\n",
    "    cache[n] = fib\n",
    "    return fib\n"
   ]
  },
  {
   "cell_type": "code",
   "execution_count": 12,
   "metadata": {},
   "outputs": [
    {
     "output_type": "stream",
     "name": "stdout",
     "text": [
      "38.3 µs ± 3.83 µs per loop (mean ± std. dev. of 7 runs, 10000 loops each)\n"
     ]
    }
   ],
   "source": [
    "%timeit fibonacci_cache(100)"
   ]
  },
  {
   "cell_type": "code",
   "execution_count": null,
   "metadata": {},
   "outputs": [],
   "source": []
  }
 ]
}