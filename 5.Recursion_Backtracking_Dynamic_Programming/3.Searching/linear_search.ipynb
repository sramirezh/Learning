{
 "metadata": {
  "language_info": {
   "codemirror_mode": {
    "name": "ipython",
    "version": 3
   },
   "file_extension": ".py",
   "mimetype": "text/x-python",
   "name": "python",
   "nbconvert_exporter": "python",
   "pygments_lexer": "ipython3",
   "version": "3.7.9"
  },
  "orig_nbformat": 2,
  "kernelspec": {
   "name": "python379jvsc74a57bd0cacdde318d08a46d07035f2dd41348c7e0164a68186675573f13e987da9ac40f",
   "display_name": "Python 3.7.9 64-bit ('simon3': conda)"
  }
 },
 "nbformat": 4,
 "nbformat_minor": 2,
 "cells": [
  {
   "source": [
    "# Linear search\n",
    "Used for unsorted data"
   ],
   "cell_type": "markdown",
   "metadata": {}
  },
  {
   "cell_type": "code",
   "execution_count": 1,
   "metadata": {},
   "outputs": [],
   "source": [
    "def linear_search(items, target):\n",
    "    \"\"\"\n",
    "    Returns the index of the target item\n",
    "    \"\"\"\n",
    "\n",
    "    for i,el in enumerate(items):\n",
    "        if el == target:\n",
    "            return i\n",
    "    return -1\n",
    "\n"
   ]
  },
  {
   "cell_type": "code",
   "execution_count": 2,
   "metadata": {},
   "outputs": [
    {
     "output_type": "execute_result",
     "data": {
      "text/plain": [
       "6"
      ]
     },
     "metadata": {},
     "execution_count": 2
    }
   ],
   "source": [
    "linear_search([10, -30, 30, 50, 4, 7,8, 1], 8)"
   ]
  },
  {
   "cell_type": "code",
   "execution_count": 11,
   "metadata": {},
   "outputs": [],
   "source": [
    "def linear_search_recursive(items, target, index = 0):\n",
    "    \"\"\"\n",
    "    Mi solution: Removing always the firs item from the items if the target is not found\n",
    "    \"\"\"\n",
    "\n",
    "    # Base case\n",
    "    if len(items) == 0:\n",
    "        return -1\n",
    "\n",
    "    if items[0] == target:\n",
    "        return index\n",
    "\n",
    "    return linear_search_recursive(items[1:], target, index+1)\n",
    "    \n",
    "    "
   ]
  },
  {
   "cell_type": "code",
   "execution_count": 16,
   "metadata": {},
   "outputs": [
    {
     "output_type": "execute_result",
     "data": {
      "text/plain": [
       "-1"
      ]
     },
     "metadata": {},
     "execution_count": 16
    }
   ],
   "source": [
    "linear_search_recursive([10, -30, 30, 50, 4, 7,8, 10, 100, 1], -1)"
   ]
  },
  {
   "source": [
    "# Binary search"
   ],
   "cell_type": "markdown",
   "metadata": {}
  },
  {
   "source": [
    "Below there is a recursive implementation"
   ],
   "cell_type": "markdown",
   "metadata": {}
  },
  {
   "cell_type": "code",
   "execution_count": 5,
   "metadata": {},
   "outputs": [],
   "source": [
    "def binary_search( items, target, left, right ):\n",
    "    \"\"\"\n",
    "    We will use integer division //\n",
    "    \"\"\"\n",
    "\n",
    "    # Base case\n",
    "    if left > right:\n",
    "        return -1\n",
    "\n",
    "    middle = (left + right) // 2\n",
    "\n",
    "    if items[middle] == target:\n",
    "        return middle\n",
    "\n",
    "    elif items[middle] > target:\n",
    "        # We use middle_index-1 because we already know that middle index is not\n",
    "        return binary_search(items, target, left, middle-1)\n",
    "\n",
    "    elif items[middle] < target:\n",
    "        return binary_search(items, target, middle+1, right)"
   ]
  },
  {
   "cell_type": "code",
   "execution_count": 8,
   "metadata": {},
   "outputs": [
    {
     "output_type": "stream",
     "name": "stdout",
     "text": [
      "3\n"
     ]
    }
   ],
   "source": [
    "nums = [-5, -4, 0, 10, 100, 101, 200]\n",
    "print(binary_search(nums, 10, 0, len(nums) ))"
   ]
  },
  {
   "cell_type": "code",
   "execution_count": null,
   "metadata": {},
   "outputs": [],
   "source": []
  }
 ]
}