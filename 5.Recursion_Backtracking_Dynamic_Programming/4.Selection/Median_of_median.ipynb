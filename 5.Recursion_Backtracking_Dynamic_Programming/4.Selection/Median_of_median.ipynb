{
 "metadata": {
  "language_info": {
   "codemirror_mode": {
    "name": "ipython",
    "version": 3
   },
   "file_extension": ".py",
   "mimetype": "text/x-python",
   "name": "python",
   "nbconvert_exporter": "python",
   "pygments_lexer": "ipython3",
   "version": "3.7.9"
  },
  "orig_nbformat": 2,
  "kernelspec": {
   "name": "python379jvsc74a57bd0cacdde318d08a46d07035f2dd41348c7e0164a68186675573f13e987da9ac40f",
   "display_name": "Python 3.7.9 64-bit ('simon3': conda)"
  }
 },
 "nbformat": 4,
 "nbformat_minor": 2,
 "cells": [
  {
   "source": [
    "More pythonic implementation of the quick_select algorithm"
   ],
   "cell_type": "markdown",
   "metadata": {}
  },
  {
   "source": [
    "def median_algorithm(nums, k):\n",
    "\n",
    "    # We split the list into chunks of 5 items\n",
    "    chunks = [nums[i:i+5] for i in range(0, len(nums), 5)]\n",
    "\n",
    "    print(chunks)\n",
    "    # The median is the middle item in the sorted order (here we suppose we know how to sort)\n",
    "    medians = [sorted(chunk)[len(chunk)//2] for chunk in chunks]\n",
    "    print (medians)\n",
    "\n",
    "    pivot_value = sorted(medians)[len(medians)//2]\n",
    "\n",
    "    #Partition phase\n",
    "\n",
    "    left_array = [n for n in nums if n <pivot_value]\n",
    "    right_array = [n for n in nums if n> pivot_value]\n",
    "\n",
    "    # The pivot is going to be placed just after the left array\n",
    "    pivot_index = len(left_array)\n",
    "\n",
    "    # Selection phase (Recursive)\n",
    "    if k < pivot_index:\n",
    "        return median_algorithm(left_array, k)\n",
    "    elif k > pivot_index:\n",
    "        # We have to update k because we have another array to the left\n",
    "        k = k-len(left_array)-1\n",
    "        return median_algorithm(right_array, k)\n",
    "    \n",
    "    else:\n",
    "        return pivot_value\n",
    "    \n"
   ],
   "cell_type": "code",
   "metadata": {},
   "execution_count": 55,
   "outputs": []
  },
  {
   "cell_type": "code",
   "execution_count": 52,
   "metadata": {},
   "outputs": [],
   "source": [
    "import random \n",
    "x = [random.randint(-100,100) for i in range(22)]"
   ]
  },
  {
   "cell_type": "code",
   "execution_count": 53,
   "metadata": {},
   "outputs": [],
   "source": [
    "x = [-10,74,-58,78,-62,79,14,-21,-61,34,15,-87,1,73,71,31,44,35,-27,-51,-82,-70]"
   ]
  },
  {
   "cell_type": "code",
   "execution_count": 54,
   "metadata": {},
   "outputs": [
    {
     "output_type": "stream",
     "name": "stdout",
     "text": [
      "[[-10, 74, -58, 78, -62], [79, 14, -21, -61, 34], [15, -87, 1, 73, 71], [31, 44, 35, -27, -51], [-82, -70]]\n[-10, 14, 15, 31, -70]\n[[-10, -58, -62, -21, -61], [-87, 1, -27, -51, -82], [-70]]\n[-58, -51, -70]\n[[-62, -61, -87, -82, -70]]\n[-70]\n"
     ]
    },
    {
     "output_type": "execute_result",
     "data": {
      "text/plain": [
       "-70"
      ]
     },
     "metadata": {},
     "execution_count": 54
    }
   ],
   "source": [
    "median_algorithm(x,2)"
   ]
  },
  {
   "cell_type": "code",
   "execution_count": 56,
   "metadata": {},
   "outputs": [],
   "source": [
    "dic = {1:3}"
   ]
  },
  {
   "cell_type": "code",
   "execution_count": 57,
   "metadata": {},
   "outputs": [
    {
     "output_type": "execute_result",
     "data": {
      "text/plain": [
       "True"
      ]
     },
     "metadata": {},
     "execution_count": 57
    }
   ],
   "source": [
    "1 in dic"
   ]
  },
  {
   "cell_type": "code",
   "execution_count": 59,
   "metadata": {},
   "outputs": [
    {
     "output_type": "execute_result",
     "data": {
      "text/plain": [
       "3"
      ]
     },
     "metadata": {},
     "execution_count": 59
    }
   ],
   "source": [
    "dic[1]"
   ]
  },
  {
   "cell_type": "code",
   "execution_count": 93,
   "metadata": {},
   "outputs": [],
   "source": [
    "def whatFlavors(cost, money):\n",
    "    # Will hold the remaining cost and the index\n",
    "    dic = {}\n",
    "    \n",
    "    for i,c in enumerate(cost):\n",
    "        remaining = money - c\n",
    "        print (dic)\n",
    "        # If remaining is there, we found the solution\n",
    "        if c in dic:\n",
    "            print (min(i+1,dic[c]), max(i+1,dic[c]))\n",
    "            break\n",
    "        else:\n",
    "            dic[remaining] = i+1"
   ]
  },
  {
   "cell_type": "code",
   "execution_count": 94,
   "metadata": {},
   "outputs": [],
   "source": [
    "cost = [1,4,5,3,2] # Output 1 4\n",
    "cost2 = [2, 2, 4, 3] # Output 1 2"
   ]
  },
  {
   "cell_type": "code",
   "execution_count": 95,
   "metadata": {},
   "outputs": [
    {
     "output_type": "stream",
     "name": "stdout",
     "text": [
      "{}\n{3: 1}\n{3: 1, 0: 2}\n{3: 1, 0: 2, -1: 3}\n1 4\n"
     ]
    }
   ],
   "source": [
    "whatFlavors(cost,4)"
   ]
  },
  {
   "cell_type": "code",
   "execution_count": 96,
   "metadata": {},
   "outputs": [
    {
     "output_type": "stream",
     "name": "stdout",
     "text": [
      "{}\n{2: 1}\n1 2\n"
     ]
    }
   ],
   "source": [
    "whatFlavors(cost2,4)"
   ]
  },
  {
   "cell_type": "code",
   "execution_count": null,
   "metadata": {},
   "outputs": [],
   "source": []
  }
 ]
}