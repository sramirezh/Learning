{
 "metadata": {
  "language_info": {
   "codemirror_mode": {
    "name": "ipython",
    "version": 3
   },
   "file_extension": ".py",
   "mimetype": "text/x-python",
   "name": "python",
   "nbconvert_exporter": "python",
   "pygments_lexer": "ipython3",
   "version": "3.7.9"
  },
  "orig_nbformat": 2,
  "kernelspec": {
   "name": "python379jvsc74a57bd0cacdde318d08a46d07035f2dd41348c7e0164a68186675573f13e987da9ac40f",
   "display_name": "Python 3.7.9 64-bit ('simon3': conda)"
  }
 },
 "nbformat": 4,
 "nbformat_minor": 2,
 "cells": [
  {
   "source": [
    "I will try to reproduce the quickselect class and then use it to sort an array in descending order"
   ],
   "cell_type": "markdown",
   "metadata": {}
  },
  {
   "cell_type": "code",
   "execution_count": 101,
   "metadata": {},
   "outputs": [],
   "source": [
    "import random\n",
    "class QuickSelect:\n",
    "    def __init__(self, nums):\n",
    "        self.first_index = 0\n",
    "        self.last_index = len(nums)-1\n",
    "        self.nums = nums\n",
    "\n",
    "\n",
    "    def run(self, k):\n",
    "        return self.select(self.first_index, self.last_index, k-1)\n",
    "\n",
    "    def select(self, first_index, last_index, k):\n",
    "\n",
    "        pivot_index = self.partition(first_index, last_index)\n",
    "\n",
    "        if pivot_index > k:\n",
    "            return self.select(first_index, pivot_index-1, k)\n",
    "        elif pivot_index < k:\n",
    "            return self.select(pivot_index+1, last_index, k)\n",
    "        \n",
    "        return self.nums[pivot_index]\n",
    "        \n",
    "\n",
    "\n",
    "    \n",
    "    def partition(self, first_index, last_index):\n",
    "        \"\"\"\n",
    "        Chooses a random index to be the pivot and organises the array such that the pivot divides it in higher and lower\n",
    "        values\n",
    "        Returns the position of the pivot index\n",
    "        \"\"\"\n",
    "        pivot_index = random.randint(first_index, last_index)\n",
    "        print(\"The pivot is %d\"%self.nums[pivot_index])\n",
    "\n",
    "        # Moving the pivot to the last position\n",
    "        self.swap(pivot_index, last_index)\n",
    "\n",
    "        for i in range(first_index, last_index):\n",
    "            \n",
    "            # comparing item with the pivot(in last position) \n",
    "            if self.nums[i] < self.nums[last_index]: # if < is used, we sort ascending\n",
    "                self.swap(i, first_index)\n",
    "                first_index += 1\n",
    "        \n",
    "        # Returning the pivot to its dividing point, on the left there should be values lower than it, on the right larger \n",
    "        # Notice that now in the first index, there should be a value that is larger than the pivot value\n",
    "        self.swap(first_index, last_index)\n",
    "\n",
    "        print(self.nums)\n",
    "        \n",
    "        return first_index\n",
    "\n",
    "    def swap(self, i, j):\n",
    "        \"\"\"\n",
    "        Swaps elements i and j in an array\n",
    "        \"\"\"\n",
    "        self.nums[i], self.nums[j] = self.nums[j], self.nums[i]\n",
    "\n",
    "    def sort(self):\n",
    "\n",
    "        sorted_array = []\n",
    "        for k in range(1,len(self.nums)):\n",
    "            sorted_array.append(self.run(k))\n",
    "        \n",
    "        return sorted_array\n",
    "\n",
    "\n",
    "        \n",
    "\n",
    "\n",
    "\n",
    "    "
   ]
  },
  {
   "cell_type": "code",
   "execution_count": 102,
   "metadata": {},
   "outputs": [],
   "source": [
    "x = [1, 2, -5, 10, 100, -7, 3, 4]\n",
    "select = QuickSelect(x)"
   ]
  },
  {
   "source": [
    "Lets check that the partition is working properly"
   ],
   "cell_type": "markdown",
   "metadata": {}
  },
  {
   "cell_type": "code",
   "execution_count": 103,
   "metadata": {},
   "outputs": [
    {
     "output_type": "stream",
     "name": "stdout",
     "text": [
      "The pivot is -5\n[-7, -5, 4, 10, 100, 1, 3, 2]\n"
     ]
    },
    {
     "output_type": "execute_result",
     "data": {
      "text/plain": [
       "1"
      ]
     },
     "metadata": {},
     "execution_count": 103
    }
   ],
   "source": [
    "select.partition(0, len(x)-1)"
   ]
  },
  {
   "source": [
    "Now, run the algorithm"
   ],
   "cell_type": "markdown",
   "metadata": {}
  },
  {
   "cell_type": "code",
   "execution_count": 104,
   "metadata": {},
   "outputs": [
    {
     "output_type": "stream",
     "name": "stdout",
     "text": [
      "The pivot is 10\n[-7, -5, 4, 2, 1, 3, 10, 100]\nThe pivot is 2\n[-7, -5, 1, 2, 4, 3, 10, 100]\nThe pivot is -7\n[-7, -5, 1, 2, 4, 3, 10, 100]\nThe pivot is -5\n[-7, -5, 1, 2, 4, 3, 10, 100]\n"
     ]
    },
    {
     "output_type": "execute_result",
     "data": {
      "text/plain": [
       "-5"
      ]
     },
     "metadata": {},
     "execution_count": 104
    }
   ],
   "source": [
    "select.run(2)"
   ]
  },
  {
   "cell_type": "code",
   "execution_count": 105,
   "metadata": {},
   "outputs": [
    {
     "output_type": "stream",
     "name": "stdout",
     "text": [
      "The pivot is 2\n[-7, -5, 1, 2, 4, 3, 10, 100]\nThe pivot is -5\n[-7, -5, 1, 2, 4, 3, 10, 100]\nThe pivot is -7\n[-7, -5, 1, 2, 4, 3, 10, 100]\nThe pivot is 10\n[-7, -5, 1, 2, 4, 3, 10, 100]\nThe pivot is -7\n[-7, -5, 1, 2, 4, 3, 10, 100]\nThe pivot is 4\n[-7, -5, 1, 2, 3, 4, 10, 100]\nThe pivot is 3\n[-7, -5, 1, 2, 3, 4, 10, 100]\nThe pivot is -5\n[-7, -5, 1, 2, 3, 4, 10, 100]\nThe pivot is -5\n[-7, -5, 1, 2, 3, 4, 10, 100]\nThe pivot is 1\n[-7, -5, 1, 2, 3, 4, 10, 100]\nThe pivot is 2\n[-7, -5, 1, 2, 3, 4, 10, 100]\nThe pivot is -5\n[-7, -5, 1, 2, 3, 4, 10, 100]\nThe pivot is 3\n[-7, -5, 1, 2, 3, 4, 10, 100]\nThe pivot is -7\n[-7, -5, 1, 2, 3, 4, 10, 100]\nThe pivot is 2\n[-7, -5, 1, 2, 3, 4, 10, 100]\nThe pivot is 4\n[-7, -5, 1, 2, 3, 4, 10, 100]\nThe pivot is 100\n[-7, -5, 1, 2, 3, 4, 10, 100]\nThe pivot is 10\n[-7, -5, 1, 2, 3, 4, 10, 100]\n"
     ]
    },
    {
     "output_type": "execute_result",
     "data": {
      "text/plain": [
       "[-7, -5, 1, 2, 3, 4, 10]"
      ]
     },
     "metadata": {},
     "execution_count": 105
    }
   ],
   "source": [
    "select.sort()"
   ]
  }
 ]
}