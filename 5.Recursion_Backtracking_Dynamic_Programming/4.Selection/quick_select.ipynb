{
 "metadata": {
  "language_info": {
   "codemirror_mode": {
    "name": "ipython",
    "version": 3
   },
   "file_extension": ".py",
   "mimetype": "text/x-python",
   "name": "python",
   "nbconvert_exporter": "python",
   "pygments_lexer": "ipython3",
   "version": "3.7.9"
  },
  "orig_nbformat": 2,
  "kernelspec": {
   "name": "python379jvsc74a57bd0cacdde318d08a46d07035f2dd41348c7e0164a68186675573f13e987da9ac40f",
   "display_name": "Python 3.7.9 64-bit ('simon3': conda)"
  }
 },
 "nbformat": 4,
 "nbformat_minor": 2,
 "cells": [
  {
   "source": [
    "# Quick select implementation\n"
   ],
   "cell_type": "markdown",
   "metadata": {}
  },
  {
   "cell_type": "code",
   "execution_count": 11,
   "metadata": {},
   "outputs": [],
   "source": [
    "import random \n",
    "\n",
    "class QuickSelect:\n",
    "    def __init__(self, nums):\n",
    "        self.nums = nums\n",
    "        self.first_index = 0 \n",
    "        self.last_index = len(nums) - 1\n",
    "\n",
    "    def run(self, k):\n",
    "        \"\"\"\n",
    "        Remember that we are looking for the kth smallest or largest item, but as we start counting on zero, then k' = k          -1\n",
    "        \"\"\"\n",
    "        return self.select(self.first_index, self.last_index, k - 1)\n",
    "\n",
    "    def partition(self, first_index, last_index):\n",
    "\n",
    "        # Generating a random value\n",
    "        pivot_index = random.randint(first_index, last_index)\n",
    "\n",
    "        self.swap(pivot_index, last_index)\n",
    "\n",
    "        for i in range(first_index, last_index):\n",
    "            if self.nums[i] < self.nums[last_index]:  # This is what we need to change if we want the largest\n",
    "                self.swap(i, first_index)\n",
    "                # Increment the first index\n",
    "                first_index += 1\n",
    "\n",
    "        # First index is pointing to the first index largest than the pivot and pivot is the last\n",
    "        self.swap(first_index, last_index)\n",
    "        # This is the index of the pivot\n",
    "        return first_index\n",
    "\n",
    "    def swap(self, i, j):\n",
    "        # We can swap without the need of a temporary variable\n",
    "        self.nums[i], self.nums[j] =  self.nums[j], self.nums[i]\n",
    "\n",
    "    def select(self, first_index, last_index, k):\n",
    "        \n",
    "        #pivot is the result of the partition phase\n",
    "        pivot_index = self.partition(first_index, last_index)\n",
    "\n",
    "        # Selection phase when we compare the pivot_index with k\n",
    "\n",
    "        if pivot_index < k:\n",
    "            # We have to discard the left sub-array and keep considering the items on the right\n",
    "            return self.select(pivot_index+1, last_index, k)\n",
    "        elif pivot_index > k:\n",
    "            return self.select(first_index, pivot_index-1, k)\n",
    "        \n",
    "        # We have found the item\n",
    "        return self.nums[pivot_index]\n",
    "\n"
   ]
  },
  {
   "cell_type": "code",
   "execution_count": 12,
   "metadata": {},
   "outputs": [],
   "source": [
    "x = [1, 2, -5, 10, 100, -7, 3, 4]\n",
    "select = QuickSelect(x)"
   ]
  },
  {
   "source": [
    "Lets find the smallest item"
   ],
   "cell_type": "markdown",
   "metadata": {}
  },
  {
   "cell_type": "code",
   "execution_count": 14,
   "metadata": {},
   "outputs": [
    {
     "output_type": "stream",
     "name": "stdout",
     "text": [
      "-5\n"
     ]
    }
   ],
   "source": [
    "print(select.run(2))"
   ]
  },
  {
   "cell_type": "code",
   "execution_count": null,
   "metadata": {},
   "outputs": [],
   "source": []
  }
 ]
}