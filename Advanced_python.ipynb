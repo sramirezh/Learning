{
 "cells": [
  {
   "cell_type": "markdown",
   "id": "75fb9db6",
   "metadata": {},
   "source": [
    "# Advanced Python\n",
    "by Luis Conejo"
   ]
  },
  {
   "cell_type": "markdown",
   "id": "9df175ff",
   "metadata": {},
   "source": [
    "Las excepciones generales son un ultimo recurso, siempre dar el except ahi. En el peor de los casis, "
   ]
  },
  {
   "cell_type": "code",
   "execution_count": null,
   "id": "2c2d20ae",
   "metadata": {},
   "outputs": [],
   "source": [
    "except exception:  "
   ]
  },
  {
   "cell_type": "code",
   "execution_count": 2,
   "id": "6372639a",
   "metadata": {},
   "outputs": [
    {
     "ename": "SyntaxError",
     "evalue": "invalid syntax (<ipython-input-2-051c3fe35697>, line 4)",
     "output_type": "error",
     "traceback": [
      "\u001b[0;36m  File \u001b[0;32m\"<ipython-input-2-051c3fe35697>\"\u001b[0;36m, line \u001b[0;32m4\u001b[0m\n\u001b[0;31m    Fpr tests is good to use context manager\u001b[0m\n\u001b[0m            ^\u001b[0m\n\u001b[0;31mSyntaxError\u001b[0m\u001b[0;31m:\u001b[0m invalid syntax\n"
     ]
    }
   ],
   "source": [
    "from mock import patch\n",
    "# for input You mock something, for instance calling WNI...Mocking a function. Also, to isolate everything. Also to force the corner conditions.\n",
    "\n",
    "Fpr tests is good to use context manager \n",
    "\n",
    "with patch('builtins.input', side_effect=responses):"
   ]
  },
  {
   "cell_type": "code",
   "execution_count": null,
   "id": "7e19ca6d",
   "metadata": {},
   "outputs": [],
   "source": [
    "For unittest\n",
    "It runs alphabetically, and then also use setUp to reset conditions "
   ]
  },
  {
   "cell_type": "code",
   "execution_count": null,
   "id": "d942ff26",
   "metadata": {},
   "outputs": [],
   "source": [
    "MagicMock ??"
   ]
  },
  {
   "cell_type": "code",
   "execution_count": null,
   "id": "9eeb48ae",
   "metadata": {},
   "outputs": [],
   "source": []
  }
 ],
 "metadata": {
  "kernelspec": {
   "display_name": "Python 3",
   "language": "python",
   "name": "python3"
  },
  "language_info": {
   "codemirror_mode": {
    "name": "ipython",
    "version": 3
   },
   "file_extension": ".py",
   "mimetype": "text/x-python",
   "name": "python",
   "nbconvert_exporter": "python",
   "pygments_lexer": "ipython3",
   "version": "3.7.4"
  }
 },
 "nbformat": 4,
 "nbformat_minor": 5
}
