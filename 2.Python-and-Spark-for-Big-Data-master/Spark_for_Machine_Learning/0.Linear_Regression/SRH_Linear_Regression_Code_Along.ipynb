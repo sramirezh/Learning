{
 "metadata": {
  "language_info": {
   "codemirror_mode": {
    "name": "ipython",
    "version": 3
   },
   "file_extension": ".py",
   "mimetype": "text/x-python",
   "name": "python",
   "nbconvert_exporter": "python",
   "pygments_lexer": "ipython3",
   "version": "3.7.9-final"
  },
  "orig_nbformat": 2,
  "kernelspec": {
   "name": "python3",
   "display_name": "Python 3.7.9 64-bit ('simon3': conda)",
   "metadata": {
    "interpreter": {
     "hash": "cacdde318d08a46d07035f2dd41348c7e0164a68186675573f13e987da9ac40f"
    }
   }
  }
 },
 "nbformat": 4,
 "nbformat_minor": 2,
 "cells": [
  {
   "cell_type": "code",
   "execution_count": 24,
   "metadata": {},
   "outputs": [],
   "source": [
    "from pyspark.sql import SparkSession"
   ]
  },
  {
   "cell_type": "code",
   "execution_count": 25,
   "metadata": {},
   "outputs": [],
   "source": [
    "spark = SparkSession.builder.appName('lr_example').getOrCreate()"
   ]
  },
  {
   "cell_type": "code",
   "execution_count": 26,
   "metadata": {},
   "outputs": [],
   "source": [
    "from pyspark.ml.regression import LinearRegression"
   ]
  },
  {
   "cell_type": "code",
   "execution_count": 27,
   "metadata": {},
   "outputs": [],
   "source": [
    "data = spark.read.csv('Spark_for_Machine_Learning/0.Linear_Regression/Ecommerce_Customers.csv', inferSchema= True, header= True)"
   ]
  },
  {
   "cell_type": "code",
   "execution_count": 28,
   "metadata": {},
   "outputs": [
    {
     "output_type": "stream",
     "name": "stdout",
     "text": [
      "root\n |-- Email: string (nullable = true)\n |-- Address: string (nullable = true)\n |-- Avatar: string (nullable = true)\n |-- Avg Session Length: double (nullable = true)\n |-- Time on App: double (nullable = true)\n |-- Time on Website: double (nullable = true)\n |-- Length of Membership: double (nullable = true)\n |-- Yearly Amount Spent: double (nullable = true)\n\n"
     ]
    }
   ],
   "source": [
    "data.printSchema()"
   ]
  },
  {
   "cell_type": "code",
   "execution_count": 29,
   "metadata": {},
   "outputs": [
    {
     "output_type": "stream",
     "name": "stdout",
     "text": [
      "hduke@hotmail.com\n4547 Archer CommonDiazchester, CA 06566-8576\nDarkGreen\n31.92627202636016\n11.109460728682564\n37.268958868297744\n2.66403418213262\n392.2049334443264\n"
     ]
    }
   ],
   "source": [
    "for item in data.head(2)[1]:\n",
    "    print(item)"
   ]
  },
  {
   "source": [
    "# Preparing the data"
   ],
   "cell_type": "markdown",
   "metadata": {}
  },
  {
   "cell_type": "code",
   "execution_count": 30,
   "metadata": {},
   "outputs": [],
   "source": [
    "from pyspark.ml.linalg import Vectors\n",
    "from pyspark.ml.feature import VectorAssembler"
   ]
  },
  {
   "cell_type": "code",
   "execution_count": 31,
   "metadata": {},
   "outputs": [
    {
     "output_type": "execute_result",
     "data": {
      "text/plain": [
       "['Email',\n",
       " 'Address',\n",
       " 'Avatar',\n",
       " 'Avg Session Length',\n",
       " 'Time on App',\n",
       " 'Time on Website',\n",
       " 'Length of Membership',\n",
       " 'Yearly Amount Spent']"
      ]
     },
     "metadata": {},
     "execution_count": 31
    }
   ],
   "source": [
    "data.columns"
   ]
  },
  {
   "cell_type": "code",
   "execution_count": 32,
   "metadata": {},
   "outputs": [],
   "source": [
    "assembler = VectorAssembler(inputCols=['Avg Session Length','Time on App','Time on Website','Length of Membership'], outputCol='features')"
   ]
  },
  {
   "cell_type": "code",
   "execution_count": 33,
   "metadata": {},
   "outputs": [],
   "source": [
    "output = assembler.transform(data)"
   ]
  },
  {
   "cell_type": "code",
   "execution_count": 34,
   "metadata": {},
   "outputs": [
    {
     "output_type": "execute_result",
     "data": {
      "text/plain": [
       "[Row(Email='mstephenson@fernandez.com', Address='835 Frank TunnelWrightmouth, MI 82180-9605', Avatar='Violet', Avg Session Length=34.49726772511229, Time on App=12.65565114916675, Time on Website=39.57766801952616, Length of Membership=4.0826206329529615, Yearly Amount Spent=587.9510539684005, features=DenseVector([34.4973, 12.6557, 39.5777, 4.0826]))]"
      ]
     },
     "metadata": {},
     "execution_count": 34
    }
   ],
   "source": [
    "output.head(1)"
   ]
  },
  {
   "cell_type": "code",
   "execution_count": 35,
   "metadata": {},
   "outputs": [],
   "source": [
    "final_data = output.select('features', 'Yearly Amount Spent' )"
   ]
  },
  {
   "cell_type": "code",
   "execution_count": 36,
   "metadata": {},
   "outputs": [
    {
     "output_type": "stream",
     "name": "stdout",
     "text": [
      "+--------------------+-------------------+\n|            features|Yearly Amount Spent|\n+--------------------+-------------------+\n|[34.4972677251122...|  587.9510539684005|\n|[31.9262720263601...|  392.2049334443264|\n|[33.0009147556426...| 487.54750486747207|\n|[34.3055566297555...|  581.8523440352177|\n|[33.3306725236463...|  599.4060920457634|\n|[33.8710378793419...|   637.102447915074|\n|[32.0215955013870...|  521.5721747578274|\n|[32.7391429383803...|  549.9041461052942|\n|[33.9877728956856...|  570.2004089636196|\n|[31.9365486184489...|  427.1993848953282|\n|[33.9925727749537...|  492.6060127179966|\n|[33.8793608248049...|  522.3374046069357|\n|[29.5324289670579...|  408.6403510726275|\n|[33.1903340437226...|  573.4158673313865|\n|[32.3879758531538...|  470.4527333009554|\n|[30.7377203726281...|  461.7807421962299|\n|[32.1253868972878...| 457.84769594494855|\n|[32.3388993230671...| 407.70454754954415|\n|[32.1878120459321...|  452.3156754800354|\n|[32.6178560628234...|   605.061038804892|\n+--------------------+-------------------+\nonly showing top 20 rows\n\n"
     ]
    }
   ],
   "source": [
    "final_data.show()"
   ]
  },
  {
   "cell_type": "code",
   "execution_count": 37,
   "metadata": {},
   "outputs": [],
   "source": [
    "train_data, test_data = final_data.randomSplit([0.7,0.3])"
   ]
  },
  {
   "source": [
    "# Performing the Linear Regression"
   ],
   "cell_type": "markdown",
   "metadata": {}
  },
  {
   "cell_type": "code",
   "execution_count": 38,
   "metadata": {},
   "outputs": [],
   "source": [
    "# Lets create the linera regression model\n",
    "lr = LinearRegression(labelCol = 'Yearly Amount Spent')"
   ]
  },
  {
   "cell_type": "code",
   "execution_count": 39,
   "metadata": {},
   "outputs": [],
   "source": [
    "lr_model = lr.fit(train_data)"
   ]
  },
  {
   "source": [
    "test_results = lr_model.evaluate(test_data)"
   ],
   "cell_type": "code",
   "metadata": {},
   "execution_count": 40,
   "outputs": []
  },
  {
   "cell_type": "code",
   "execution_count": 42,
   "metadata": {},
   "outputs": [
    {
     "output_type": "stream",
     "name": "stdout",
     "text": [
      "+-------------------+\n|          residuals|\n+-------------------+\n| -6.001357985642073|\n| -4.202444565036501|\n| -7.627772713952709|\n|-1.3669091761604477|\n|-4.3095920381422275|\n|  -8.07599140160903|\n| -5.515503316234117|\n| -4.925037439069058|\n| -6.043906004886708|\n|  3.368877772464714|\n| 17.570167475895005|\n| -7.187411450719878|\n| -2.506698278052397|\n| 1.7534187462754858|\n|-4.9590092060291795|\n|  -11.7294799865399|\n| -4.496159673559987|\n|-18.165622838705588|\n|  -2.88823825567124|\n|-2.2318247248532543|\n+-------------------+\nonly showing top 20 rows\n\n"
     ]
    }
   ],
   "source": [
    "test_results.residuals.show()"
   ]
  },
  {
   "cell_type": "code",
   "execution_count": 43,
   "metadata": {},
   "outputs": [
    {
     "output_type": "execute_result",
     "data": {
      "text/plain": [
       "9.140644552602566"
      ]
     },
     "metadata": {},
     "execution_count": 43
    }
   ],
   "source": [
    "test_results.rootMeanSquaredError"
   ]
  },
  {
   "cell_type": "code",
   "execution_count": 44,
   "metadata": {},
   "outputs": [
    {
     "output_type": "execute_result",
     "data": {
      "text/plain": [
       "0.9851594758160814"
      ]
     },
     "metadata": {},
     "execution_count": 44
    }
   ],
   "source": [
    "test_results.r2"
   ]
  },
  {
   "source": [
    "# Deploying the model"
   ],
   "cell_type": "markdown",
   "metadata": {}
  },
  {
   "cell_type": "code",
   "execution_count": 48,
   "metadata": {},
   "outputs": [],
   "source": [
    "unlabeled_data = test_data.select('features')"
   ]
  },
  {
   "cell_type": "code",
   "execution_count": 49,
   "metadata": {},
   "outputs": [
    {
     "output_type": "stream",
     "name": "stdout",
     "text": [
      "+--------------------+\n|            features|\n+--------------------+\n|[30.4925366965402...|\n|[30.8794843441274...|\n|[31.1280900496166...|\n|[31.2606468698795...|\n|[31.4252268808548...|\n|[31.4474464941278...|\n|[31.5147378578019...|\n|[31.5171218025062...|\n|[31.5257524169682...|\n|[31.5316044825729...|\n|[31.6005122003032...|\n|[31.7207699002873...|\n|[31.7216523605090...|\n|[31.7366356860502...|\n|[31.7656188210424...|\n|[31.8093003166791...|\n|[31.8124825597242...|\n|[31.8164283341993...|\n|[31.8530748017465...|\n|[31.8627411090001...|\n+--------------------+\nonly showing top 20 rows\n\n"
     ]
    }
   ],
   "source": [
    "unlabeled_data.show()"
   ]
  },
  {
   "cell_type": "code",
   "execution_count": null,
   "metadata": {},
   "outputs": [],
   "source": []
  }
 ]
}