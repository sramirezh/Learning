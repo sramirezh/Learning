{
 "metadata": {
  "language_info": {
   "codemirror_mode": {
    "name": "ipython",
    "version": 3
   },
   "file_extension": ".py",
   "mimetype": "text/x-python",
   "name": "python",
   "nbconvert_exporter": "python",
   "pygments_lexer": "ipython3",
   "version": "3.7.9-final"
  },
  "orig_nbformat": 2,
  "kernelspec": {
   "name": "python3",
   "display_name": "Python 3.7.9 64-bit",
   "metadata": {
    "interpreter": {
     "hash": "cacdde318d08a46d07035f2dd41348c7e0164a68186675573f13e987da9ac40f"
    }
   }
  }
 },
 "nbformat": 4,
 "nbformat_minor": 2,
 "cells": [
  {
   "cell_type": "code",
   "execution_count": 1,
   "metadata": {},
   "outputs": [],
   "source": [
    "from pyspark.sql import SparkSession    "
   ]
  },
  {
   "cell_type": "code",
   "execution_count": 2,
   "metadata": {},
   "outputs": [],
   "source": [
    "spark = SparkSession.builder.appName('Logistic').getOrCreate()"
   ]
  },
  {
   "cell_type": "code",
   "execution_count": 3,
   "metadata": {},
   "outputs": [],
   "source": [
    "from pyspark.ml.classification import LogisticRegression"
   ]
  },
  {
   "cell_type": "code",
   "execution_count": 4,
   "metadata": {},
   "outputs": [],
   "source": [
    "data = spark.read.format('libsvm').load('Spark_for_Machine_Learning/1.Logistic_Regression/sample_libsvm_data.txt')"
   ]
  },
  {
   "cell_type": "code",
   "execution_count": 5,
   "metadata": {},
   "outputs": [
    {
     "output_type": "stream",
     "name": "stdout",
     "text": [
      "+-----+--------------------+\n|label|            features|\n+-----+--------------------+\n|  0.0|(692,[127,128,129...|\n|  1.0|(692,[158,159,160...|\n|  1.0|(692,[124,125,126...|\n|  1.0|(692,[152,153,154...|\n|  1.0|(692,[151,152,153...|\n|  0.0|(692,[129,130,131...|\n|  1.0|(692,[158,159,160...|\n|  1.0|(692,[99,100,101,...|\n|  0.0|(692,[154,155,156...|\n|  0.0|(692,[127,128,129...|\n|  1.0|(692,[154,155,156...|\n|  0.0|(692,[153,154,155...|\n|  0.0|(692,[151,152,153...|\n|  1.0|(692,[129,130,131...|\n|  0.0|(692,[154,155,156...|\n|  1.0|(692,[150,151,152...|\n|  0.0|(692,[124,125,126...|\n|  0.0|(692,[152,153,154...|\n|  1.0|(692,[97,98,99,12...|\n|  1.0|(692,[124,125,126...|\n+-----+--------------------+\nonly showing top 20 rows\n\n"
     ]
    }
   ],
   "source": [
    "data.show()"
   ]
  },
  {
   "cell_type": "code",
   "execution_count": 6,
   "metadata": {},
   "outputs": [],
   "source": [
    "my_log_reg_model = LogisticRegression()"
   ]
  },
  {
   "cell_type": "code",
   "execution_count": 7,
   "metadata": {},
   "outputs": [],
   "source": [
    "fitted_logreg_model = my_log_reg_model.fit(data)"
   ]
  },
  {
   "cell_type": "code",
   "execution_count": 12,
   "metadata": {},
   "outputs": [],
   "source": [
    "log_summary = fitted_logreg_model.summary"
   ]
  },
  {
   "cell_type": "code",
   "execution_count": 14,
   "metadata": {},
   "outputs": [
    {
     "output_type": "stream",
     "name": "stdout",
     "text": [
      "root\n |-- label: double (nullable = true)\n |-- features: vector (nullable = true)\n |-- rawPrediction: vector (nullable = true)\n |-- probability: vector (nullable = true)\n |-- prediction: double (nullable = false)\n\n"
     ]
    }
   ],
   "source": [
    "log_summary.predictions.printSchema()"
   ]
  },
  {
   "cell_type": "code",
   "execution_count": 15,
   "metadata": {},
   "outputs": [
    {
     "output_type": "stream",
     "name": "stdout",
     "text": [
      "+-----+--------------------+--------------------+--------------------+----------+\n|label|            features|       rawPrediction|         probability|prediction|\n+-----+--------------------+--------------------+--------------------+----------+\n|  0.0|(692,[127,128,129...|[19.8534775947478...|[0.99999999761359...|       0.0|\n|  1.0|(692,[158,159,160...|[-20.377398194908...|[1.41321555111048...|       1.0|\n|  1.0|(692,[124,125,126...|[-27.401459284891...|[1.25804865126974...|       1.0|\n|  1.0|(692,[152,153,154...|[-18.862741612668...|[6.42710509170280...|       1.0|\n|  1.0|(692,[151,152,153...|[-20.483011833009...|[1.27157209200599...|       1.0|\n|  0.0|(692,[129,130,131...|[19.8506078990277...|[0.99999999760673...|       0.0|\n|  1.0|(692,[158,159,160...|[-20.337256674833...|[1.47109814695573...|       1.0|\n|  1.0|(692,[99,100,101,...|[-19.595579753418...|[3.08850168102630...|       1.0|\n|  0.0|(692,[154,155,156...|[19.2708803215613...|[0.99999999572670...|       0.0|\n|  0.0|(692,[127,128,129...|[23.6202328360423...|[0.99999999994480...|       0.0|\n|  1.0|(692,[154,155,156...|[-24.385235147661...|[2.56818872776492...|       1.0|\n|  0.0|(692,[153,154,155...|[26.3082522490179...|[0.99999999999624...|       0.0|\n|  0.0|(692,[151,152,153...|[25.8329060318703...|[0.99999999999396...|       0.0|\n|  1.0|(692,[129,130,131...|[-19.794609139086...|[2.53110684529565...|       1.0|\n|  0.0|(692,[154,155,156...|[21.0260440948067...|[0.99999999926123...|       0.0|\n|  1.0|(692,[150,151,152...|[-22.764979942873...|[1.29806018790933...|       1.0|\n|  0.0|(692,[124,125,126...|[21.5049307193955...|[0.99999999954235...|       0.0|\n|  0.0|(692,[152,153,154...|[31.9927184226421...|[0.99999999999998...|       0.0|\n|  1.0|(692,[97,98,99,12...|[-20.521067180414...|[1.22409115616499...|       1.0|\n|  1.0|(692,[124,125,126...|[-22.245377742755...|[2.18250475400319...|       1.0|\n+-----+--------------------+--------------------+--------------------+----------+\nonly showing top 20 rows\n\n"
     ]
    }
   ],
   "source": [
    "log_summary.predictions.show()"
   ]
  },
  {
   "source": [
    "# Using training set for the model"
   ],
   "cell_type": "markdown",
   "metadata": {}
  },
  {
   "cell_type": "code",
   "execution_count": 16,
   "metadata": {},
   "outputs": [],
   "source": [
    "train, test = data.randomSplit([0.7,0.3])"
   ]
  },
  {
   "cell_type": "code",
   "execution_count": 19,
   "metadata": {},
   "outputs": [],
   "source": [
    "final_model = LogisticRegression()"
   ]
  },
  {
   "cell_type": "code",
   "execution_count": 20,
   "metadata": {},
   "outputs": [],
   "source": [
    "fit_final = final_model.fit(train)"
   ]
  },
  {
   "source": [
    "# Evaluating the predictions    "
   ],
   "cell_type": "markdown",
   "metadata": {}
  },
  {
   "cell_type": "code",
   "execution_count": 21,
   "metadata": {},
   "outputs": [],
   "source": [
    "prediction_and_labels = fit_final.evaluate(test)"
   ]
  },
  {
   "cell_type": "code",
   "execution_count": 22,
   "metadata": {},
   "outputs": [
    {
     "output_type": "stream",
     "name": "stdout",
     "text": [
      "+-----+--------------------+--------------------+--------------------+----------+\n|label|            features|       rawPrediction|         probability|prediction|\n+-----+--------------------+--------------------+--------------------+----------+\n|  0.0|(692,[98,99,100,1...|[30.0828283366966...|[0.99999999999991...|       0.0|\n|  0.0|(692,[124,125,126...|[31.1567023293646...|[0.99999999999997...|       0.0|\n|  0.0|(692,[124,125,126...|[25.7386747838468...|[0.99999999999336...|       0.0|\n|  0.0|(692,[126,127,128...|[26.3598000799543...|[0.99999999999643...|       0.0|\n|  0.0|(692,[126,127,128...|[30.0424158553004...|[0.99999999999991...|       0.0|\n|  0.0|(692,[126,127,128...|[21.1452723698515...|[0.99999999934427...|       0.0|\n|  0.0|(692,[127,128,129...|[18.6132157139607...|[0.99999999175134...|       0.0|\n|  0.0|(692,[153,154,155...|[13.3860943480635...|[0.99999846364201...|       0.0|\n|  0.0|(692,[154,155,156...|[8.42970196554226...|[0.99978176110100...|       0.0|\n|  0.0|(692,[155,156,180...|[34.4303056347823...|[0.99999999999999...|       0.0|\n|  1.0|(692,[119,120,121...|[-7.7829642868482...|[4.16601272387650...|       1.0|\n|  1.0|(692,[123,124,125...|[-25.565837949764...|[7.88674234964432...|       1.0|\n|  1.0|(692,[123,124,125...|[-20.455329295343...|[1.30726417878417...|       1.0|\n|  1.0|(692,[124,125,126...|[-21.114634611393...|[6.76130769850530...|       1.0|\n|  1.0|(692,[125,126,127...|[-23.997403050574...|[3.78495111867814...|       1.0|\n|  1.0|(692,[125,126,127...|[-18.541159440758...|[8.86495964480865...|       1.0|\n|  1.0|(692,[125,126,153...|[-20.376922385496...|[1.41388813236746...|       1.0|\n|  1.0|(692,[125,126,153...|[-21.699988590960...|[3.76543103189995...|       1.0|\n|  1.0|(692,[127,128,155...|[-23.425490578433...|[6.70561640356091...|       1.0|\n|  1.0|(692,[128,129,130...|[-26.375814017187...|[3.50856491847030...|       1.0|\n+-----+--------------------+--------------------+--------------------+----------+\nonly showing top 20 rows\n\n"
     ]
    }
   ],
   "source": [
    "prediction_and_labels.predictions.show()"
   ]
  },
  {
   "cell_type": "code",
   "execution_count": 23,
   "metadata": {},
   "outputs": [],
   "source": [
    "from pyspark.ml.evaluation import (BinaryClassificationEvaluator, MulticlassClassificationEvaluator)"
   ]
  },
  {
   "cell_type": "code",
   "execution_count": 24,
   "metadata": {},
   "outputs": [],
   "source": [
    "my_eval = BinaryClassificationEvaluator()"
   ]
  },
  {
   "cell_type": "code",
   "execution_count": 27,
   "metadata": {},
   "outputs": [],
   "source": [
    "my_final_roc = my_eval.evaluate(prediction_and_labels.predictions)"
   ]
  },
  {
   "cell_type": "code",
   "execution_count": 28,
   "metadata": {},
   "outputs": [
    {
     "output_type": "execute_result",
     "data": {
      "text/plain": [
       "1.0"
      ]
     },
     "metadata": {},
     "execution_count": 28
    }
   ],
   "source": [
    "my_final_roc"
   ]
  },
  {
   "source": [
    "# Trying SQL"
   ],
   "cell_type": "markdown",
   "metadata": {}
  },
  {
   "cell_type": "code",
   "execution_count": 30,
   "metadata": {},
   "outputs": [
    {
     "output_type": "execute_result",
     "data": {
      "text/plain": [
       "pyspark.sql.dataframe.DataFrame"
      ]
     },
     "metadata": {},
     "execution_count": 30
    }
   ],
   "source": [
    "type(data)"
   ]
  },
  {
   "cell_type": "code",
   "execution_count": 31,
   "metadata": {},
   "outputs": [],
   "source": [
    "#Register the DataFrame as a SQL temporary view\n",
    "data.createOrReplaceTempView(\"data\")"
   ]
  },
  {
   "cell_type": "code",
   "execution_count": 32,
   "metadata": {},
   "outputs": [
    {
     "output_type": "stream",
     "name": "stdout",
     "text": [
      "+-----+--------------------+\n|label|            features|\n+-----+--------------------+\n|  0.0|(692,[127,128,129...|\n|  1.0|(692,[158,159,160...|\n|  1.0|(692,[124,125,126...|\n|  1.0|(692,[152,153,154...|\n|  1.0|(692,[151,152,153...|\n|  0.0|(692,[129,130,131...|\n|  1.0|(692,[158,159,160...|\n|  1.0|(692,[99,100,101,...|\n|  0.0|(692,[154,155,156...|\n|  0.0|(692,[127,128,129...|\n|  1.0|(692,[154,155,156...|\n|  0.0|(692,[153,154,155...|\n|  0.0|(692,[151,152,153...|\n|  1.0|(692,[129,130,131...|\n|  0.0|(692,[154,155,156...|\n|  1.0|(692,[150,151,152...|\n|  0.0|(692,[124,125,126...|\n|  0.0|(692,[152,153,154...|\n|  1.0|(692,[97,98,99,12...|\n|  1.0|(692,[124,125,126...|\n+-----+--------------------+\nonly showing top 20 rows\n\n"
     ]
    }
   ],
   "source": [
    "sqlDF = spark.sql(\"SELECT * FROM data\")\n",
    "sqlDF.show()"
   ]
  },
  {
   "cell_type": "code",
   "execution_count": 33,
   "metadata": {},
   "outputs": [
    {
     "output_type": "stream",
     "name": "stdout",
     "text": [
      "+---------------+\n|count(features)|\n+---------------+\n|            100|\n+---------------+\n\n"
     ]
    }
   ],
   "source": [
    "sqlDF = spark.sql(\"SELECT count(features) FROM data as count\")\n",
    "sqlDF.show()"
   ]
  },
  {
   "cell_type": "code",
   "execution_count": null,
   "metadata": {},
   "outputs": [],
   "source": []
  }
 ]
}