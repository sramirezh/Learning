{
 "metadata": {
  "language_info": {
   "codemirror_mode": {
    "name": "ipython",
    "version": 3
   },
   "file_extension": ".py",
   "mimetype": "text/x-python",
   "name": "python",
   "nbconvert_exporter": "python",
   "pygments_lexer": "ipython3",
   "version": "3.7.9-final"
  },
  "orig_nbformat": 2,
  "kernelspec": {
   "name": "python3",
   "display_name": "Python 3.7.9 64-bit ('simon3': conda)",
   "metadata": {
    "interpreter": {
     "hash": "cacdde318d08a46d07035f2dd41348c7e0164a68186675573f13e987da9ac40f"
    }
   }
  }
 },
 "nbformat": 4,
 "nbformat_minor": 2,
 "cells": [
  {
   "cell_type": "code",
   "execution_count": 1,
   "metadata": {},
   "outputs": [],
   "source": [
    "from pyspark.sql import SparkSession"
   ]
  },
  {
   "cell_type": "code",
   "execution_count": 3,
   "metadata": {},
   "outputs": [],
   "source": [
    "spark = SparkSession.builder.appName(\"grup\").getOrCreate()"
   ]
  },
  {
   "cell_type": "code",
   "execution_count": 5,
   "metadata": {},
   "outputs": [],
   "source": [
    "df = spark.read.csv('Spark_DataFrames/sales_info.csv', inferSchema=True, header= True)"
   ]
  },
  {
   "cell_type": "code",
   "execution_count": 6,
   "metadata": {},
   "outputs": [
    {
     "output_type": "stream",
     "name": "stdout",
     "text": [
      "+-------+-------+-----+\n|Company| Person|Sales|\n+-------+-------+-----+\n|   GOOG|    Sam|200.0|\n|   GOOG|Charlie|120.0|\n|   GOOG|  Frank|340.0|\n|   MSFT|   Tina|600.0|\n|   MSFT|    Amy|124.0|\n|   MSFT|Vanessa|243.0|\n|     FB|   Carl|870.0|\n|     FB|  Sarah|350.0|\n|   APPL|   John|250.0|\n|   APPL|  Linda|130.0|\n|   APPL|   Mike|750.0|\n|   APPL|  Chris|350.0|\n+-------+-------+-----+\n\n"
     ]
    }
   ],
   "source": [
    "df.show()"
   ]
  },
  {
   "cell_type": "code",
   "execution_count": 7,
   "metadata": {},
   "outputs": [
    {
     "output_type": "stream",
     "name": "stdout",
     "text": [
      "root\n |-- Company: string (nullable = true)\n |-- Person: string (nullable = true)\n |-- Sales: double (nullable = true)\n\n"
     ]
    }
   ],
   "source": [
    "df.printSchema()"
   ]
  },
  {
   "cell_type": "code",
   "execution_count": 8,
   "metadata": {},
   "outputs": [
    {
     "output_type": "execute_result",
     "data": {
      "text/plain": [
       "<pyspark.sql.group.GroupedData at 0x7fa3e7b65f10>"
      ]
     },
     "metadata": {},
     "execution_count": 8
    }
   ],
   "source": [
    "df.groupBy(\"Company\")"
   ]
  },
  {
   "cell_type": "code",
   "execution_count": 10,
   "metadata": {},
   "outputs": [
    {
     "output_type": "stream",
     "name": "stdout",
     "text": [
      "+-------+-----------------+\n|Company|       avg(Sales)|\n+-------+-----------------+\n|   APPL|            370.0|\n|   GOOG|            220.0|\n|     FB|            610.0|\n|   MSFT|322.3333333333333|\n+-------+-----------------+\n\n"
     ]
    }
   ],
   "source": [
    "df.groupBy(\"Company\").mean().show()"
   ]
  },
  {
   "cell_type": "code",
   "execution_count": 11,
   "metadata": {},
   "outputs": [
    {
     "output_type": "stream",
     "name": "stdout",
     "text": [
      "+----------+\n|sum(Sales)|\n+----------+\n|    4327.0|\n+----------+\n\n"
     ]
    }
   ],
   "source": [
    "# agreggate we can pass the column and the function that we want to use on it\n",
    "df.agg({'Sales':'sum'}).show()"
   ]
  },
  {
   "cell_type": "code",
   "execution_count": 13,
   "metadata": {},
   "outputs": [
    {
     "output_type": "stream",
     "name": "stdout",
     "text": [
      "+-------+----------+\n|Company|max(Sales)|\n+-------+----------+\n|   APPL|     750.0|\n|   GOOG|     340.0|\n|     FB|     870.0|\n|   MSFT|     600.0|\n+-------+----------+\n\n"
     ]
    }
   ],
   "source": [
    "#Also, we can do it by company using groupby and agg\n",
    "\n",
    "group_data = df.groupBy('Company')\n",
    "group_data.agg({'Sales':'max'}).show()"
   ]
  },
  {
   "cell_type": "code",
   "execution_count": 14,
   "metadata": {},
   "outputs": [],
   "source": [
    "# Some functions\n",
    "from pyspark.sql.functions import countDistinct, avg, stddev\n"
   ]
  },
  {
   "cell_type": "code",
   "execution_count": 15,
   "metadata": {},
   "outputs": [
    {
     "output_type": "stream",
     "name": "stdout",
     "text": [
      "+---------------------+\n|count(DISTINCT Sales)|\n+---------------------+\n|                   11|\n+---------------------+\n\n"
     ]
    }
   ],
   "source": [
    "df.select(countDistinct('Sales')).show()"
   ]
  },
  {
   "cell_type": "code",
   "execution_count": 16,
   "metadata": {},
   "outputs": [
    {
     "output_type": "stream",
     "name": "stdout",
     "text": [
      "+-----------------+\n|    Average Sales|\n+-----------------+\n|360.5833333333333|\n+-----------------+\n\n"
     ]
    }
   ],
   "source": [
    "# We can define alias for the imported data\n",
    "df.select(avg(\"Sales\").alias(\"Average Sales\")).show()"
   ]
  },
  {
   "cell_type": "code",
   "execution_count": 17,
   "metadata": {},
   "outputs": [
    {
     "output_type": "stream",
     "name": "stdout",
     "text": [
      "+------------------+\n|stddev_samp(Sales)|\n+------------------+\n|250.08742410799007|\n+------------------+\n\n"
     ]
    }
   ],
   "source": [
    "df.select(stddev('Sales')).show()"
   ]
  },
  {
   "cell_type": "code",
   "execution_count": 18,
   "metadata": {},
   "outputs": [],
   "source": [
    "from pyspark.sql.functions import format_number"
   ]
  },
  {
   "cell_type": "code",
   "execution_count": 19,
   "metadata": {},
   "outputs": [
    {
     "output_type": "stream",
     "name": "stdout",
     "text": [
      "+---------------------+\n|format_number(std, 2)|\n+---------------------+\n|               250.09|\n+---------------------+\n\n"
     ]
    }
   ],
   "source": [
    "sales_std = df.select(stddev(\"Sales\").alias(\"std\"))\n",
    "sales_std.select(format_number ('std',2)).show()"
   ]
  },
  {
   "cell_type": "code",
   "execution_count": 20,
   "metadata": {},
   "outputs": [
    {
     "output_type": "stream",
     "name": "stdout",
     "text": [
      "+-------+-------+-----+\n|Company| Person|Sales|\n+-------+-------+-----+\n|   GOOG|    Sam|200.0|\n|   GOOG|Charlie|120.0|\n|   GOOG|  Frank|340.0|\n|   MSFT|   Tina|600.0|\n|   MSFT|    Amy|124.0|\n|   MSFT|Vanessa|243.0|\n|     FB|   Carl|870.0|\n|     FB|  Sarah|350.0|\n|   APPL|   John|250.0|\n|   APPL|  Linda|130.0|\n|   APPL|   Mike|750.0|\n|   APPL|  Chris|350.0|\n+-------+-------+-----+\n\n"
     ]
    }
   ],
   "source": [
    "df.show()"
   ]
  },
  {
   "cell_type": "code",
   "execution_count": 25,
   "metadata": {},
   "outputs": [
    {
     "output_type": "stream",
     "name": "stdout",
     "text": [
      "+-------+-------+-----+\n|Company| Person|Sales|\n+-------+-------+-----+\n|   GOOG|Charlie|120.0|\n|   MSFT|    Amy|124.0|\n|   APPL|  Linda|130.0|\n|   GOOG|    Sam|200.0|\n|   MSFT|Vanessa|243.0|\n|   APPL|   John|250.0|\n|   GOOG|  Frank|340.0|\n|     FB|  Sarah|350.0|\n|   APPL|  Chris|350.0|\n|   MSFT|   Tina|600.0|\n|   APPL|   Mike|750.0|\n|     FB|   Carl|870.0|\n+-------+-------+-----+\n\n"
     ]
    }
   ],
   "source": [
    "df.orderBy('Sales').show()"
   ]
  },
  {
   "cell_type": "code",
   "execution_count": 26,
   "metadata": {},
   "outputs": [
    {
     "output_type": "stream",
     "name": "stdout",
     "text": [
      "+-------+-------+-----+\n|Company| Person|Sales|\n+-------+-------+-----+\n|     FB|   Carl|870.0|\n|   APPL|   Mike|750.0|\n|   MSFT|   Tina|600.0|\n|     FB|  Sarah|350.0|\n|   APPL|  Chris|350.0|\n|   GOOG|  Frank|340.0|\n|   APPL|   John|250.0|\n|   MSFT|Vanessa|243.0|\n|   GOOG|    Sam|200.0|\n|   APPL|  Linda|130.0|\n|   MSFT|    Amy|124.0|\n|   GOOG|Charlie|120.0|\n+-------+-------+-----+\n\n"
     ]
    }
   ],
   "source": [
    "df.orderBy(df['Sales'].desc()).show()"
   ]
  },
  {
   "cell_type": "code",
   "execution_count": null,
   "metadata": {},
   "outputs": [],
   "source": []
  }
 ]
}