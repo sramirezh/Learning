{
 "cells": [
  {
   "cell_type": "markdown",
   "metadata": {},
   "source": [
    "# Implementation of Merge Sort\n",
    "\n",
    "Merge sort is a recursive algorithm that continually splits a list in half. If the list is empty or has one item, it is sorted by definition (the base case). If the list has more than one item, we split the list and recursively invoke a merge sort on both halves. Once the two halves are sorted, the fundamental operation, called a merge, is performed. Merging is the process of taking two smaller sorted lists and combining them together into a single, sorted, new list. "
   ]
  },
  {
   "cell_type": "markdown",
   "metadata": {},
   "source": [
    "# Resources for Review\n",
    "\n",
    "Check out the resources below for a review of Merge sort!\n",
    "\n",
    "* [Wikipedia](https://en.wikipedia.org/wiki/Merge_sort)\n",
    "* [Visual Algo](http://visualgo.net/sorting.html)\n",
    "* [Sorting Algorithms Animcation with Pseudocode](http://www.sorting-algorithms.com/merge-sort)"
   ]
  },
  {
   "cell_type": "code",
   "execution_count": 4,
   "metadata": {
    "collapsed": true
   },
   "outputs": [],
   "source": [
    "def merge_sort(arr):\n",
    "    \n",
    "    if len(arr)>1:\n",
    "        mid = int(len(arr)/2)\n",
    "        lefthalf = arr[:mid]\n",
    "        righthalf = arr[mid:]\n",
    "\n",
    "        merge_sort(lefthalf)\n",
    "        merge_sort(righthalf)\n",
    "\n",
    "        i=0\n",
    "        j=0\n",
    "        k=0\n",
    "        # Merges back into the original list\n",
    "        while i < len(lefthalf) and j < len(righthalf):\n",
    "            if lefthalf[i] < righthalf[j]:\n",
    "                arr[k]=lefthalf[i]\n",
    "                i=i+1\n",
    "            else:\n",
    "                arr[k]=righthalf[j]\n",
    "                j=j+1\n",
    "            k=k+1\n",
    "\n",
    "        while i < len(lefthalf):\n",
    "            arr[k]=lefthalf[i]\n",
    "            i=i+1\n",
    "            k=k+1\n",
    "\n",
    "        while j < len(righthalf):\n",
    "            arr[k]=righthalf[j]\n",
    "            j=j+1\n",
    "            k=k+1\n",
    "    print ('Merging',arr) "
   ]
  },
  {
   "cell_type": "code",
   "execution_count": 5,
   "metadata": {},
   "outputs": [
    {
     "output_type": "stream",
     "name": "stdout",
     "text": [
      "Merging [11]\nMerging [2]\nMerging [2, 11]\nMerging [5]\nMerging [4]\nMerging [4, 5]\nMerging [2, 4, 5, 11]\nMerging [7]\nMerging [6]\nMerging [6, 7]\nMerging [8]\nMerging [1]\nMerging [23]\nMerging [1, 23]\nMerging [1, 8, 23]\nMerging [1, 6, 7, 8, 23]\nMerging [1, 2, 4, 5, 6, 7, 8, 11, 23]\n"
     ]
    },
    {
     "output_type": "execute_result",
     "data": {
      "text/plain": [
       "[1, 2, 4, 5, 6, 7, 8, 11, 23]"
      ]
     },
     "metadata": {},
     "execution_count": 5
    }
   ],
   "source": [
    "arr = [11,2,5,4,7,6,8,1,23]\n",
    "merge_sort(arr)\n",
    "arr"
   ]
  },
  {
   "source": [
    "# Balazs Implementation"
   ],
   "cell_type": "markdown",
   "metadata": {}
  },
  {
   "cell_type": "code",
   "execution_count": 7,
   "metadata": {},
   "outputs": [],
   "source": [
    "def merge_sort(nums):\n",
    "\n",
    "    # Base case\n",
    "    # Arrays with 1 item are sorted by default\n",
    "\n",
    "    if len(nums) == 1:\n",
    "        return\n",
    "\n",
    "    # Divide phase\n",
    "    # Split subarrays until subarrays of len == 1\n",
    "    middle_index = len(nums)//2\n",
    "    left_half = nums[:middle_index]\n",
    "    right_half = nums[middle_index:]\n",
    "\n",
    "    merge_sort(left_half)\n",
    "    merge_sort(right_half)\n",
    "\n",
    "    # Conquer Phase\n",
    "    # We just have splitted the left_half and right half \n",
    "    #THINK about the stack...By the end of this recursive call\n",
    "    # The minimum subarray will be sorted\n",
    "\n",
    "    i = 0 # Index for the left subarray\n",
    "    j = 0 # Index for the right subarray\n",
    "    k = 0 # Index for the total subarray\n",
    "\n",
    "    # When both right and left have items\n",
    "    while i<len(left_half) and j<len(right_half):\n",
    "        if left_half[i]< right_half[j]:\n",
    "            nums[k] = left_half[i]\n",
    "            i += 1\n",
    "        else:\n",
    "            nums[k] = right_half[j]\n",
    "            j += 1\n",
    "        k += 1\n",
    "\n",
    "    # When only the left have items\n",
    "    while i<len(left_half):\n",
    "        nums[k] = left_half[i]\n",
    "        i += 1\n",
    "        k += 1\n",
    "\n",
    "    # When only the right have items\n",
    "    while j<len(right_half):\n",
    "        nums[k] = right_half[j]\n",
    "        j += 1\n",
    "        k += 1\n",
    "\n",
    "\n",
    "\n",
    "\n",
    "    \n",
    "\n",
    "\n"
   ]
  },
  {
   "cell_type": "code",
   "execution_count": 8,
   "metadata": {},
   "outputs": [
    {
     "output_type": "execute_result",
     "data": {
      "text/plain": [
       "[1, 2, 4, 5, 6, 7, 8, 11, 23]"
      ]
     },
     "metadata": {},
     "execution_count": 8
    }
   ],
   "source": [
    "arr2 = [11,2,5,4,7,6,8,1,23]\n",
    "merge_sort(arr2)\n",
    "arr2"
   ]
  },
  {
   "cell_type": "markdown",
   "metadata": {},
   "source": [
    "# Good Job!"
   ]
  }
 ],
 "metadata": {
  "kernelspec": {
   "name": "python379jvsc74a57bd0cacdde318d08a46d07035f2dd41348c7e0164a68186675573f13e987da9ac40f",
   "display_name": "Python 3.7.9 64-bit ('simon3': conda)"
  },
  "language_info": {
   "codemirror_mode": {
    "name": "ipython",
    "version": 3
   },
   "file_extension": ".py",
   "mimetype": "text/x-python",
   "name": "python",
   "nbconvert_exporter": "python",
   "pygments_lexer": "ipython3",
   "version": "3.7.9"
  }
 },
 "nbformat": 4,
 "nbformat_minor": 1
}