{
 "cells": [
  {
   "cell_type": "markdown",
   "metadata": {},
   "source": [
    "# Implementation of Quick Sort\n",
    "\n",
    "A quick sort first selects a value, which is called the pivot value. Although there are many different ways to choose the pivot value, we will simply use the first item in the list. The role of the pivot value is to assist with splitting the list. The actual position where the pivot value belongs in the final sorted list, commonly called the split point, will be used to divide the list for subsequent calls to the quick sort."
   ]
  },
  {
   "cell_type": "markdown",
   "metadata": {},
   "source": [
    "# Resources for Review\n",
    "\n",
    "Check out the resources below for a review of Insertion sort!\n",
    "\n",
    "* [Wikipedia](https://en.wikipedia.org/wiki/Quicksort)\n",
    "* [Visual Algo](http://visualgo.net/sorting.html)\n",
    "* [Sorting Algorithms Animcation with Pseudocode](http://www.sorting-algorithms.com/quick-sort)"
   ]
  },
  {
   "cell_type": "code",
   "execution_count": 5,
   "metadata": {
    "collapsed": true
   },
   "outputs": [],
   "source": [
    "def quick_sort(arr):\n",
    "\n",
    "    \"\"\"\n",
    "    Calls the help function\n",
    "    \"\"\"\n",
    "    \n",
    "    quick_sort_help(arr,0,len(arr)-1)\n",
    "\n",
    "def quick_sort_help(arr,first,last):\n",
    "    \"\"\"\n",
    "    Make recursive calls for the quicksort for the two halves defined by the splitpoint\n",
    "    \"\"\"\n",
    "    \n",
    "    if first<last:\n",
    "        \n",
    "\n",
    "        splitpoint = partition(arr,first,last)\n",
    "\n",
    "        quick_sort_help(arr,first,splitpoint-1)\n",
    "        quick_sort_help(arr,splitpoint+1,last)\n",
    "\n",
    "\n",
    "def partition(arr,first,last):\n",
    "    \"\"\"\n",
    "    Starts from the pivot point, first and last, moving the left and right mark until finding the split point (rightmark that is returned)\n",
    "    \"\"\"\n",
    "    \n",
    "    pivotvalue = arr[first]\n",
    "\n",
    "    leftmark = first+1\n",
    "    rightmark = last\n",
    "\n",
    "    done = False\n",
    "    while not done:\n",
    "\n",
    "        # Moving the left mark\n",
    "        while leftmark <= rightmark and arr[leftmark] <= pivotvalue:\n",
    "            leftmark = leftmark + 1\n",
    "\n",
    "        # Moving the right mark\n",
    "        while arr[rightmark] >= pivotvalue and rightmark >= leftmark:\n",
    "            rightmark = rightmark -1\n",
    "\n",
    "        if rightmark < leftmark:\n",
    "            done = True\n",
    "        # Exchanging the right and left\n",
    "        else:\n",
    "            temp = arr[leftmark]\n",
    "            arr[leftmark] = arr[rightmark]\n",
    "            arr[rightmark] = temp\n",
    "\n",
    "    # Exchanging first and right mark (i.e the pivot point becomes the split point)\n",
    "    temp = arr[first]\n",
    "    arr[first] = arr[rightmark]\n",
    "    arr[rightmark] = temp\n",
    "\n",
    "\n",
    "    return rightmark"
   ]
  },
  {
   "cell_type": "code",
   "execution_count": 6,
   "metadata": {},
   "outputs": [
    {
     "data": {
      "text/plain": [
       "[1, 2, 3, 4, 4, 5, 6, 7, 11, 12]"
      ]
     },
     "execution_count": 6,
     "metadata": {},
     "output_type": "execute_result"
    }
   ],
   "source": [
    "arr = [2,5,4,6,7,3,1,4,12,11]\n",
    "quick_sort(arr)\n",
    "arr"
   ]
  },
  {
   "source": [
    "Barazs Implementation\n"
   ],
   "cell_type": "markdown",
   "metadata": {}
  },
  {
   "cell_type": "code",
   "execution_count": 58,
   "metadata": {},
   "outputs": [],
   "source": [
    "import random\n",
    "class QuickSort:\n",
    "    \"\"\"\n",
    "    Divide anq conquer, the original array is going to be splitted into two arrays\n",
    "    \"\"\"\n",
    "    def __init__(self, arr):\n",
    "        self.arr = arr\n",
    "\n",
    "    def sort(self):\n",
    "        \"\"\"\n",
    "        Helper function\n",
    "        \"\"\"\n",
    "        self.quick_sort(0, len(self.arr)-1)\n",
    "\n",
    "    def quick_sort(self, initial, final):\n",
    "        \"\"\"\n",
    "        Called recursively\n",
    "        Args:\n",
    "            initial: index of the first item in the array\n",
    "            final: index of the last item in the array\n",
    "        \"\"\"\n",
    "\n",
    "        #Base case\n",
    "        if initial >= final:\n",
    "            return\n",
    "\n",
    "        # Computing the pivot \n",
    "        pivot_index = self.partition(initial, final)\n",
    "        # NOTE By the end of this step, the pivot value is at its sorted position\n",
    "\n",
    "        # Recursively call on both sides\n",
    "        self.quick_sort(initial, pivot_index-1)\n",
    "        self.quick_sort(pivot_index+1, final)\n",
    "\n",
    "\n",
    "\n",
    "    def partition(self, low, high):\n",
    "        \"\"\"\n",
    "        Here is where the magic happens\n",
    "        \"\"\"\n",
    "        \n",
    "        #The pivot could be random but here, we try the middle point\n",
    "\n",
    "        pivot_index = (low + high)//2\n",
    "        self.swap(pivot_index, high)\n",
    "        \n",
    "        initial_index = low\n",
    "        for index in range(low,high):\n",
    "            if self.arr[index]< self.arr[high]:\n",
    "                self.swap(initial_index, index)\n",
    "                initial_index += 1\n",
    "        \n",
    "        #Initial index is now the position of the pivot\n",
    "        self.swap(initial_index, high)\n",
    "\n",
    "        return initial_index\n",
    "        \n",
    "\n",
    "        \n",
    "    def swap(self, i, j):\n",
    "        \"\"\"\n",
    "        Swapping indices in a pythonic way\n",
    "        \"\"\"\n",
    "        self.arr[i], self.arr[j] = self.arr[j], self.arr[i]\n",
    "\n",
    "\n",
    "    \n",
    "\n"
   ]
  },
  {
   "cell_type": "code",
   "execution_count": 59,
   "metadata": {},
   "outputs": [],
   "source": [
    "arr2 = [2,5,4,6,7,3,1,12,11]\n",
    "sorting = QuickSort(arr2)\n",
    "sorting.sort()"
   ]
  },
  {
   "cell_type": "code",
   "execution_count": 60,
   "metadata": {},
   "outputs": [
    {
     "output_type": "execute_result",
     "data": {
      "text/plain": [
       "[1, 2, 3, 4, 5, 6, 7, 11, 12]"
      ]
     },
     "metadata": {},
     "execution_count": 60
    }
   ],
   "source": [
    "arr2"
   ]
  },
  {
   "cell_type": "markdown",
   "metadata": {},
   "source": [
    "# Good Job!"
   ]
  },
  {
   "cell_type": "code",
   "execution_count": null,
   "metadata": {},
   "outputs": [],
   "source": []
  }
 ],
 "metadata": {
  "kernelspec": {
   "name": "python379jvsc74a57bd0cacdde318d08a46d07035f2dd41348c7e0164a68186675573f13e987da9ac40f",
   "display_name": "Python 3.7.9 64-bit ('simon3': conda)"
  },
  "language_info": {
   "codemirror_mode": {
    "name": "ipython",
    "version": 3
   },
   "file_extension": ".py",
   "mimetype": "text/x-python",
   "name": "python",
   "nbconvert_exporter": "python",
   "pygments_lexer": "ipython3",
   "version": "3.7.9"
  }
 },
 "nbformat": 4,
 "nbformat_minor": 1
}