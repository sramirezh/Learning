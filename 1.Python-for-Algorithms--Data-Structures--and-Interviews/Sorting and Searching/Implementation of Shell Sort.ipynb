{
 "cells": [
  {
   "cell_type": "markdown",
   "metadata": {},
   "source": [
    "# Implementation of Shell Sort\n",
    "\n",
    "The shell sort improves on the insertion sort by breaking the original list into a number of smaller sublists, each of which is sorted using an insertion sort. The unique way that these sublists are chosen is the key to the shell sort. Instead of breaking the list into sublists of contiguous items, the shell sort uses an increment i, sometimes called the gap, to create a sublist by choosing all items that are i items apart."
   ]
  },
  {
   "cell_type": "markdown",
   "metadata": {},
   "source": [
    "# Resources for Review\n",
    "\n",
    "Check out the resources below for a review of Shell sort!\n",
    "\n",
    "* [Wikipedia](https://en.wikipedia.org/wiki/Shellsort)\n",
    "* [Visual Algo](http://visualgo.net/sorting.html)\n",
    "* [Sorting Algorithms Animcation with Pseudocode](http://www.sorting-algorithms.com/shell-sort)"
   ]
  },
  {
   "cell_type": "code",
   "execution_count": 7,
   "metadata": {
    "collapsed": true
   },
   "outputs": [],
   "source": [
    "def shell_sort(arr):\n",
    "    sublistcount = len(arr)//2\n",
    "    \n",
    "    # While we still have sub lists\n",
    "    while sublistcount > 0:\n",
    "        for start in range(sublistcount):\n",
    "            # Use a gap insertion\n",
    "            gap_insertion_sort(arr,start,sublistcount)\n",
    "\n",
    "      \n",
    "\n",
    "        sublistcount = sublistcount //2\n",
    "\n",
    "def gap_insertion_sort(arr,start,gap):\n",
    "    for i in range(start+gap,len(arr),gap):\n",
    "\n",
    "        currentvalue = arr[i]\n",
    "        position = i\n",
    "\n",
    "        # Using the Gap\n",
    "        while position>=gap and arr[position-gap]>currentvalue:\n",
    "            arr[position]=arr[position-gap]\n",
    "            position = position-gap\n",
    "        \n",
    "        # Set current value\n",
    "        arr[position]=currentvalue"
   ]
  },
  {
   "cell_type": "code",
   "execution_count": 9,
   "metadata": {
    "collapsed": false
   },
   "outputs": [
    {
     "output_type": "execute_result",
     "data": {
      "text/plain": [
       "[2, 4, 6, 7, 21, 23, 24, 45, 45, 67, 90]"
      ]
     },
     "metadata": {},
     "execution_count": 9
    }
   ],
   "source": [
    "arr1 = [45,67,23,45,21,24,7,2,6,4,90]\n",
    "shell_sort(arr1)\n",
    "arr1"
   ]
  },
  {
   "source": [
    "# Implementation Balazs"
   ],
   "cell_type": "markdown",
   "metadata": {}
  },
  {
   "cell_type": "code",
   "execution_count": 20,
   "metadata": {},
   "outputs": [],
   "source": [
    "def shell_sort(nums):\n",
    "\n",
    "    #Initialise the gap to half of the array\n",
    "    gap = len(nums)//2\n",
    "\n",
    "    while gap > 0:\n",
    "\n",
    "        for i in range(gap, len(nums)):\n",
    "\n",
    "            j = i\n",
    "\n",
    "            while j>= gap and nums[j-gap] > nums[j]:\n",
    "                # swap \n",
    "                print(j)\n",
    "                nums[j-gap], nums[j] = nums[j] , nums[j-gap]\n",
    "                j = j - gap\n",
    "                \n",
    "\n",
    "        gap = gap//2\n",
    "    \n",
    "    return nums\n",
    "\n"
   ]
  },
  {
   "cell_type": "code",
   "execution_count": 21,
   "metadata": {},
   "outputs": [
    {
     "output_type": "stream",
     "name": "stdout",
     "text": [
      "5\n6\n7\n8\n9\n2\n3\n4\n7\n8\n9\n7\n2\n5\n7\n6\n9\n"
     ]
    },
    {
     "output_type": "execute_result",
     "data": {
      "text/plain": [
       "[2, 4, 6, 7, 21, 23, 24, 45, 45, 67, 90]"
      ]
     },
     "metadata": {},
     "execution_count": 21
    }
   ],
   "source": [
    "arr2 = [45,67,23,45,21,24,7,2,6,4,90]\n",
    "shell_sort(arr2)"
   ]
  },
  {
   "cell_type": "code",
   "execution_count": 17,
   "metadata": {},
   "outputs": [
    {
     "output_type": "execute_result",
     "data": {
      "text/plain": [
       "True"
      ]
     },
     "metadata": {},
     "execution_count": 17
    }
   ],
   "source": [
    "arr1 == arr2"
   ]
  },
  {
   "cell_type": "markdown",
   "metadata": {},
   "source": [
    "# Good Job!"
   ]
  }
 ],
 "metadata": {
  "kernelspec": {
   "name": "python379jvsc74a57bd0cacdde318d08a46d07035f2dd41348c7e0164a68186675573f13e987da9ac40f",
   "display_name": "Python 3.7.9 64-bit ('simon3': conda)"
  },
  "language_info": {
   "codemirror_mode": {
    "name": "ipython",
    "version": 2
   },
   "file_extension": ".py",
   "mimetype": "text/x-python",
   "name": "python",
   "nbconvert_exporter": "python",
   "pygments_lexer": "ipython2",
   "version": "3.7.9"
  }
 },
 "nbformat": 4,
 "nbformat_minor": 0
}