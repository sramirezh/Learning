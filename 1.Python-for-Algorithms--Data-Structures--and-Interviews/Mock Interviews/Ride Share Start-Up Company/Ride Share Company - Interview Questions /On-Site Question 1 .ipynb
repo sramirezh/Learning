{
 "cells": [
  {
   "cell_type": "markdown",
   "metadata": {},
   "source": [
    "# On-Site Question 1 \n",
    "\n",
    "## Problem\n",
    "\n",
    "** Given a list of integers, find the largest product you could make from 3 integers in the list **\n",
    "\n",
    "## Requirements\n",
    "\n",
    "** You can assume that the list will always have at least 3 integers **\n",
    "\n",
    "** Paper/pencil only, don't code this out until you've solved it as far as you can by hand. **"
   ]
  },
  {
   "cell_type": "markdown",
   "metadata": {},
   "source": [
    "# Good Luck!"
   ]
  },
  {
   "source": [
    "In principle I could sort and get the minimum 2 and maximum 3. compare the product of the minimum 2 and the product of the maximum 2, and after that complement with one of the maximum"
   ],
   "cell_type": "markdown",
   "metadata": {}
  },
  {
   "cell_type": "code",
   "execution_count": 7,
   "metadata": {},
   "outputs": [],
   "source": [
    "def prod_three(lst):\n",
    "\n",
    "    # Initialising the values\n",
    "    max_prod_2 = lst[0] * lst[1]\n",
    "    max_prod_3 = lst[0] * lst[1] * lst[2]\n",
    "    max_val = max(lst[0], lst[1])\n",
    "    min_val = min(lst[0], lst[1])\n",
    "    min_prod = lst[0] * lst[1]\n",
    "\n",
    "    for num in lst[2:]:\n",
    "\n",
    "        max_val = max(max_val, num)\n",
    "        min_val = min(min_val, num)\n",
    "        min_prod = min(min_prod, num * min_val)\n",
    "        max_prod_2 = max(max_prod_2, num * max_val, num * min_val)\n",
    "        max_prod_3 = max(max_prod_3, max_prod_2 * num, min_prod * num)\n",
    "\n",
    "    return max_prod_3\n"
   ]
  },
  {
   "cell_type": "code",
   "execution_count": 8,
   "metadata": {},
   "outputs": [
    {
     "output_type": "execute_result",
     "data": {
      "text/plain": [
       "240"
      ]
     },
     "metadata": {},
     "execution_count": 8
    }
   ],
   "source": [
    "prod_three([-10, 5,6,6, -4])"
   ]
  },
  {
   "cell_type": "code",
   "execution_count": null,
   "metadata": {},
   "outputs": [],
   "source": []
  }
 ],
 "metadata": {
  "kernelspec": {
   "name": "python3",
   "display_name": "Python 3.7.9 64-bit ('simon3': conda)",
   "metadata": {
    "interpreter": {
     "hash": "cacdde318d08a46d07035f2dd41348c7e0164a68186675573f13e987da9ac40f"
    }
   }
  },
  "language_info": {
   "codemirror_mode": {
    "name": "ipython",
    "version": 2
   },
   "file_extension": ".py",
   "mimetype": "text/x-python",
   "name": "python",
   "nbconvert_exporter": "python",
   "pygments_lexer": "ipython2",
   "version": "3.7.9-final"
  }
 },
 "nbformat": 4,
 "nbformat_minor": 0
}