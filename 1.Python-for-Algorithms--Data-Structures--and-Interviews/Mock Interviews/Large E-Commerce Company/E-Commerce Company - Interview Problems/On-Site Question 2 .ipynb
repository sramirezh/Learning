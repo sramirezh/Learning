{
 "cells": [
  {
   "cell_type": "markdown",
   "metadata": {},
   "source": [
    "# On-Site Question 2 \n",
    "\n",
    "## Problem\n",
    "\n",
    "** Given a list of integers, write a function that will return a list, in which for each index the element will be the product of all the integers except for the element at that index **\n",
    "\n",
    "**For example, an input of [1,2,3,4] would return [24,12,8,6] by performing [2×3×4,1×3×4,1×2×4,1×2×3] **\n",
    "\n",
    "## Requirements\n",
    "\n",
    "** You can not use division in your answer! Meaning you can't simply multiply all the numbers and then divide by eahc element for each index!**\n",
    "\n",
    "** Try to do this on a white board or with paper/pencil.**"
   ]
  },
  {
   "cell_type": "markdown",
   "metadata": {},
   "source": [
    "# Good Luck!"
   ]
  },
  {
   "cell_type": "code",
   "execution_count": 7,
   "metadata": {},
   "outputs": [],
   "source": [
    "def bf(array):\n",
    "    \"\"\"\n",
    "    My brute for solution O(N**2)\n",
    "    \"\"\"\n",
    "    length = len(array)\n",
    "    solution =[]\n",
    "\n",
    "    for i in range(length):\n",
    "        prod = 1\n",
    "        for j in range(length):\n",
    "            if i!=j:\n",
    "                prod *= array[j]\n",
    "\n",
    "        solution.append(prod)\n",
    "    return solution"
   ]
  },
  {
   "cell_type": "code",
   "execution_count": 28,
   "metadata": {},
   "outputs": [],
   "source": [
    "def prod_list(array):\n",
    "    \"\"\"\n",
    "    This solution is O(N) time and O(N) space as we create an array\n",
    "    \"\"\"\n",
    "    solution = [None] * len(array)\n",
    "\n",
    "    i = 0 \n",
    "    product = 1\n",
    "\n",
    "    # Goes once forward and for each position does not add the product of the own positions\n",
    "    # Because it assigns the value to solution before performing the multiplication\n",
    "    while i< len(array):\n",
    "        solution[i] = product\n",
    "        product *= array[i]\n",
    "\n",
    "        i += 1\n",
    "\n",
    "    \n",
    "\n",
    "    # Same procedure but now starting from the end, i.e multiplying the entries ahead of the index\n",
    "    product = 1\n",
    "    i = len(array)-1\n",
    "    while i>=0:\n",
    "        solution[i] *= product # again, the entry in the index does not contribute to the product\n",
    "        product *= array[i]\n",
    "        i -= 1\n",
    "    return solution\n",
    "\n",
    "\n",
    "\n"
   ]
  },
  {
   "cell_type": "code",
   "execution_count": 20,
   "metadata": {},
   "outputs": [
    {
     "output_type": "execute_result",
     "data": {
      "text/plain": [
       "[24, 12, 8, 6]"
      ]
     },
     "metadata": {},
     "execution_count": 20
    }
   ],
   "source": [
    "array = [1,2,3,4]\n",
    "bf(array)"
   ]
  },
  {
   "cell_type": "code",
   "execution_count": 29,
   "metadata": {},
   "outputs": [
    {
     "output_type": "stream",
     "name": "stdout",
     "text": [
      "[1, None, None, None]\n[1, 1, None, None]\n[1, 1, 2, None]\n[1, 1, 2, 6]\n[1, 1, 2, 6]\n[1, 1, 8, 6]\n[1, 12, 8, 6]\n[24, 12, 8, 6]\n"
     ]
    },
    {
     "output_type": "execute_result",
     "data": {
      "text/plain": [
       "[24, 12, 8, 6]"
      ]
     },
     "metadata": {},
     "execution_count": 29
    }
   ],
   "source": [
    "array = [1,2,3,4]\n",
    "prod_list(array)"
   ]
  },
  {
   "cell_type": "code",
   "execution_count": null,
   "metadata": {},
   "outputs": [],
   "source": []
  }
 ],
 "metadata": {
  "kernelspec": {
   "display_name": "Python 3",
   "language": "python",
   "name": "python3"
  },
  "language_info": {
   "codemirror_mode": {
    "name": "ipython",
    "version": 3
   },
   "file_extension": ".py",
   "mimetype": "text/x-python",
   "name": "python",
   "nbconvert_exporter": "python",
   "pygments_lexer": "ipython3",
   "version": "3.7.9-final"
  }
 },
 "nbformat": 4,
 "nbformat_minor": 1
}