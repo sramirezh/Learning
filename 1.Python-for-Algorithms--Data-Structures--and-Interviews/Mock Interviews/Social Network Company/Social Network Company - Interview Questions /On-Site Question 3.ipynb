{
 "cells": [
  {
   "cell_type": "markdown",
   "metadata": {},
   "source": [
    "# On-Site Question 3 \n",
    "\n",
    "## Problem\n",
    "\n",
    "** Create a function that takes in a list of unsorted prices (integers) and a maximum possible price value, and return a sorted list of prices**\n",
    "\n",
    "## Requirements\n",
    "\n",
    "** Your function should be able to perform this in less than O(nlogn) time. **"
   ]
  },
  {
   "cell_type": "markdown",
   "metadata": {},
   "source": [
    "# Good Luck!"
   ]
  },
  {
   "cell_type": "code",
   "execution_count": 4,
   "metadata": {},
   "outputs": [],
   "source": [
    "# As twe know the maximum possible price values, we can use counting sort\n",
    "\n",
    "def sort(arr, max_val):\n",
    "\n",
    "    # I will build a histrogram, where the index is the value of the integer and the entry is has the number of counts per price \n",
    "    hist = [0] * (max_val + 1)\n",
    "\n",
    "    for el in arr:\n",
    "        hist[el] +=1\n",
    "    \n",
    "    sorted_result = []\n",
    "\n",
    "    for price,i  in enumerate(hist):\n",
    "        for count in range(i):\n",
    "            sorted_result.append(price)\n",
    "\n",
    "    return sorted_result"
   ]
  },
  {
   "cell_type": "code",
   "execution_count": 5,
   "metadata": {},
   "outputs": [],
   "source": [
    "arr = [8,1,4,5,9,9,10]"
   ]
  },
  {
   "cell_type": "code",
   "execution_count": 6,
   "metadata": {},
   "outputs": [
    {
     "output_type": "execute_result",
     "data": {
      "text/plain": [
       "[1, 4, 5, 8, 9, 9, 10]"
      ]
     },
     "metadata": {},
     "execution_count": 6
    }
   ],
   "source": [
    "sort(arr, 10)"
   ]
  },
  {
   "cell_type": "code",
   "execution_count": null,
   "metadata": {},
   "outputs": [],
   "source": []
  }
 ],
 "metadata": {
  "kernelspec": {
   "name": "python3",
   "display_name": "Python 3.7.9 64-bit ('simon3': conda)",
   "metadata": {
    "interpreter": {
     "hash": "cacdde318d08a46d07035f2dd41348c7e0164a68186675573f13e987da9ac40f"
    }
   }
  },
  "language_info": {
   "codemirror_mode": {
    "name": "ipython",
    "version": 2
   },
   "file_extension": ".py",
   "mimetype": "text/x-python",
   "name": "python",
   "nbconvert_exporter": "python",
   "pygments_lexer": "ipython2",
   "version": "3.7.9-final"
  }
 },
 "nbformat": 4,
 "nbformat_minor": 0
}