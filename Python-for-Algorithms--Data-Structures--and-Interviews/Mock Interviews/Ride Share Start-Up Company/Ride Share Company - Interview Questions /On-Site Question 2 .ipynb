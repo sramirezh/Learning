{
 "cells": [
  {
   "cell_type": "markdown",
   "metadata": {},
   "source": [
    "# On-Site Question 2 \n",
    "\n",
    "## Problem\n",
    "\n",
    "** Write a function that given a target amount of money and a list of possible coin denominations, returns the number of ways to make change for the target amount using the coin denominations**\n",
    "\n",
    "## Requirements\n",
    "\n",
    "** Write out your work on paper/pencil, then see if you can code up your solution **"
   ]
  },
  {
   "cell_type": "markdown",
   "metadata": {},
   "source": [
    "# Good Luck!"
   ]
  },
  {
   "source": [
    "## First I will try the to perform the minimum number of coins to get the given amount"
   ],
   "cell_type": "markdown",
   "metadata": {}
  },
  {
   "cell_type": "code",
   "execution_count": 1,
   "metadata": {},
   "outputs": [],
   "source": [
    "coins = [3,5,7]\n",
    "amount = 20"
   ]
  },
  {
   "cell_type": "code",
   "execution_count": 25,
   "metadata": {},
   "outputs": [],
   "source": [
    "# Recursive solution\n",
    "def change(coins, amount):\n",
    "\n",
    "    # initialising the minimum number of coins\n",
    "    min_coins = amount\n",
    "\n",
    "    #base case\n",
    "    if amount in coins:\n",
    "        return 1\n",
    "    \n",
    "    for coin in coins:\n",
    "        if coin < amount:\n",
    "            num_coins = 1+ change(coins, amount-coin)\n",
    "            min_coins = min(num_coins, min_coins)\n",
    "    \n",
    "    return min_coins"
   ]
  },
  {
   "cell_type": "code",
   "execution_count": 26,
   "metadata": {},
   "outputs": [
    {
     "output_type": "execute_result",
     "data": {
      "text/plain": [
       "4"
      ]
     },
     "metadata": {},
     "execution_count": 26
    }
   ],
   "source": [
    "change(coins, amount)"
   ]
  },
  {
   "cell_type": "code",
   "execution_count": 42,
   "metadata": {},
   "outputs": [],
   "source": []
  },
  {
   "cell_type": "code",
   "execution_count": 43,
   "metadata": {},
   "outputs": [
    {
     "output_type": "execute_result",
     "data": {
      "text/plain": [
       "4"
      ]
     },
     "metadata": {},
     "execution_count": 43
    }
   ],
   "source": [
    "change_bottom_up(amount, coins)"
   ]
  },
  {
   "cell_type": "code",
   "execution_count": 65,
   "metadata": {},
   "outputs": [],
   "source": [
    "# Dynamic programming approach\n",
    "\n",
    "cache = [0] * (amount + 1)\n",
    "\n",
    "def change(coins, amount, min_coins):\n",
    "    min_coins = amount\n",
    "    # initialising the minimum number of coins\n",
    "    #base case\n",
    "    if amount in coins:\n",
    "        cache[amount] = 1\n",
    "        return 1\n",
    "    \n",
    "    elif cache[amount] > 0:\n",
    "        return cache[amount]\n",
    "    else:\n",
    "        for coin in coins:\n",
    "            if coin < amount:\n",
    "                num_coins = 1+change(coins, amount-coin, min_coins)\n",
    "                min_coins = min(num_coins, min_coins)\n",
    "                # Updating the value\n",
    "                cache[amount] = min_coins\n",
    "        \n",
    "    return min_coins"
   ]
  },
  {
   "cell_type": "code",
   "execution_count": 66,
   "metadata": {},
   "outputs": [
    {
     "output_type": "execute_result",
     "data": {
      "text/plain": [
       "4"
      ]
     },
     "metadata": {},
     "execution_count": 66
    }
   ],
   "source": [
    "change(coins, amount, min_coins)"
   ]
  },
  {
   "source": [
    "# Now dealing with the problem"
   ],
   "cell_type": "markdown",
   "metadata": {}
  },
  {
   "cell_type": "code",
   "execution_count": 67,
   "metadata": {},
   "outputs": [],
   "source": [
    "# for each amount, the solution is equal to the sum of solutions amount-denomination_i"
   ]
  },
  {
   "cell_type": "code",
   "execution_count": 70,
   "metadata": {},
   "outputs": [],
   "source": [
    "def change(amount, coins):\n",
    "    \"\"\"\n",
    "    Bottom up solution\n",
    "    \"\"\"\n",
    "\n",
    "    # Setting the number of combinations to get the amount n as num_combinations[n]\n",
    "    num_combinations = [0] * (amount + 1) # Goes to amount+1 so I can retrieve the num_combination[amount]\n",
    "    \n",
    "    num_combinations[0] = 1 # see the inner loop why this\n",
    "    for c in coins:\n",
    "        # each amount has a combination that depends on the sum of the other combinations for lower denominations.\n",
    "        for j in range(c, amount+1):\n",
    "            num_combinations[j] += num_combinations[j-c] #THIS j-c when j == c is why we need the num_combinations[0] = 1\n",
    "    return num_combinations[amount]\n"
   ]
  },
  {
   "cell_type": "code",
   "execution_count": 73,
   "metadata": {},
   "outputs": [
    {
     "output_type": "execute_result",
     "data": {
      "text/plain": [
       "16"
      ]
     },
     "metadata": {},
     "execution_count": 73
    }
   ],
   "source": [
    "change(20, [5,4,1])"
   ]
  },
  {
   "cell_type": "code",
   "execution_count": null,
   "metadata": {},
   "outputs": [],
   "source": []
  }
 ],
 "metadata": {
  "kernelspec": {
   "name": "python3",
   "display_name": "Python 3.7.9 64-bit ('simon3': conda)",
   "metadata": {
    "interpreter": {
     "hash": "cacdde318d08a46d07035f2dd41348c7e0164a68186675573f13e987da9ac40f"
    }
   }
  },
  "language_info": {
   "codemirror_mode": {
    "name": "ipython",
    "version": 2
   },
   "file_extension": ".py",
   "mimetype": "text/x-python",
   "name": "python",
   "nbconvert_exporter": "python",
   "pygments_lexer": "ipython2",
   "version": "3.7.9-final"
  }
 },
 "nbformat": 4,
 "nbformat_minor": 0
}