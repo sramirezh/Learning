{
 "cells": [
  {
   "cell_type": "markdown",
   "metadata": {},
   "source": [
    "# On-Site Question 3\n",
    "\n",
    "## Problem\n",
    "\n",
    "**Given two rectangles, determine if they overlap. The rectangles are defined as a Dictionary, for example:**"
   ]
  },
  {
   "cell_type": "code",
   "execution_count": 2,
   "metadata": {
    "collapsed": false
   },
   "outputs": [],
   "source": [
    "r1 = {\n",
    "    \n",
    "         # x and y coordinates of the bottom-left corner of the rectangle\n",
    "         'x': 2 , 'y': 4,\n",
    "         \n",
    "         # Width and Height of rectangle\n",
    "         'w':5,'h':12}"
   ]
  },
  {
   "cell_type": "markdown",
   "metadata": {},
   "source": [
    "** If the rectangles do overlap, return the dictionary which describes the overlapping section**"
   ]
  },
  {
   "cell_type": "markdown",
   "metadata": {},
   "source": [
    "## Requirements\n",
    "\n",
    "** Make sure the dictionary you output is in the same form as the input.**\n",
    "\n",
    "** Feel free to use an IDE for the code, but make sure you use paper/pencil or whiteboard to draw out your plan and logic**"
   ]
  },
  {
   "cell_type": "markdown",
   "metadata": {},
   "source": [
    "# Good Luck!"
   ]
  },
  {
   "cell_type": "code",
   "execution_count": 63,
   "metadata": {},
   "outputs": [],
   "source": [
    "def overlap (r1, r2):\n",
    "    #distance between the top of r1 and the bottom of r2\n",
    "    y_tb = (r1['y']+r1['h']) - r2['y']\n",
    "    # distance between the right of r1 and left of r2\n",
    "    x_rl = (r1['x']+r1['w']) - r2['x']\n",
    "    if y_tb> r1['h'] or y_tb<=0:\n",
    "        print (\"there is no overlap\")\n",
    "    else:\n",
    "        if x_rl > r1['w'] or x_rl<=0:\n",
    "            print(\"there is no overlap\")\n",
    "        else:\n",
    "            y_bb = r1['y'] - r2['y']\n",
    "            x_ll = r1['x'] - r2['x']\n",
    "            #return {'x':, 'y':, 'h': ,'w': }"
   ]
  },
  {
   "cell_type": "code",
   "execution_count": 72,
   "metadata": {},
   "outputs": [],
   "source": [
    "def calc_overlap(coord1, dim1, coord2, dim2):\n",
    "    \"\"\"\n",
    "    1-D overlap\n",
    "    \"\"\"\n",
    "\n",
    "    # Calculating the origin most to the right or top\n",
    "    greater = max(coord1, coord2)\n",
    "    # Calculating the ending lowest/left end point of the lines\n",
    "    lower_point = min(coord1+dim1, coord2+dim2)\n",
    "\n",
    "    if greater>= lower_point:\n",
    "        return (None, None)\n",
    "    \n",
    "    else:\n",
    "        overlap = lower_point - greater\n",
    "        return(greater, overlap)"
   ]
  },
  {
   "cell_type": "code",
   "execution_count": 73,
   "metadata": {},
   "outputs": [],
   "source": [
    "def overlap(r1, r2):\n",
    "    \"\"\"\n",
    "    r1 and r2 are two dictionaries defined as above\n",
    "    \"\"\"\n",
    "    \n",
    "    r={}\n",
    "    #calculate overlap in x\n",
    "    r['x'], r['w'] = calc_overlap(r1['x'], r1['w'], r2['x'], r2['w'] ) \n",
    "    #calculate overlap in y\n",
    "    r['y'], r['h'] = calc_overlap(r1['y'], r1['h'], r2['y'], r2['h'] )\n",
    "\n",
    "    return r \n"
   ]
  },
  {
   "cell_type": "code",
   "execution_count": 74,
   "metadata": {},
   "outputs": [],
   "source": [
    "r1 = {'x':0, 'y':0, 'h': 10, 'w':5}\n",
    "r2 = {'x':0, 'y':5, 'h': 10, 'w':5}"
   ]
  },
  {
   "cell_type": "code",
   "execution_count": 75,
   "metadata": {},
   "outputs": [
    {
     "output_type": "execute_result",
     "data": {
      "text/plain": [
       "{'x': 0, 'w': 5, 'y': 5, 'h': 5}"
      ]
     },
     "metadata": {},
     "execution_count": 75
    }
   ],
   "source": [
    "overlap(r1, r2)"
   ]
  },
  {
   "cell_type": "code",
   "execution_count": 18,
   "metadata": {},
   "outputs": [
    {
     "output_type": "stream",
     "name": "stdout",
     "text": [
      "Hey\n"
     ]
    }
   ],
   "source": []
  },
  {
   "cell_type": "code",
   "execution_count": 24,
   "metadata": {},
   "outputs": [
    {
     "output_type": "execute_result",
     "data": {
      "text/plain": [
       "10"
      ]
     },
     "metadata": {},
     "execution_count": 24
    }
   ],
   "source": []
  },
  {
   "cell_type": "code",
   "execution_count": null,
   "metadata": {},
   "outputs": [],
   "source": []
  }
 ],
 "metadata": {
  "kernelspec": {
   "name": "python3",
   "display_name": "Python 3.7.9 64-bit ('simon3': conda)",
   "metadata": {
    "interpreter": {
     "hash": "cacdde318d08a46d07035f2dd41348c7e0164a68186675573f13e987da9ac40f"
    }
   }
  },
  "language_info": {
   "codemirror_mode": {
    "name": "ipython",
    "version": 2
   },
   "file_extension": ".py",
   "mimetype": "text/x-python",
   "name": "python",
   "nbconvert_exporter": "python",
   "pygments_lexer": "ipython2",
   "version": "3.7.9-final"
  }
 },
 "nbformat": 4,
 "nbformat_minor": 0
}