{
 "cells": [
  {
   "cell_type": "markdown",
   "metadata": {},
   "source": [
    "# On-Site Question 1 \n",
    "\n",
    "## Problem\n",
    "\n",
    "** You've been given a list of historical stock prices for a single day for Amazon stock. The index of the list represents the timestamp, so the element at index of 0 is the initial price of the stock, the element at index 1 is the next recorded price of the stock for that day, etc. Your task is to write a function that will return the maximum profit possible from the purchase and sale of a single share of Amazon stock on that day. Keep in mind to try to make this as efficient as possible.**\n",
    "\n",
    "\n",
    "For example, if you were given the list of stock prices:\n",
    "\n",
    "prices = [12,11,15,3,10]\n",
    "\n",
    "Then your function would return the maximum possible profit, which would be 7 (buying at 3 and selling at 10).\n",
    "\n",
    "## Requirements\n",
    "\n",
    "** Try to solve this problem with paper/pencil first without using an IDE. Also keep in mind you should be able to come up with a better solution than just brute forcing every possible sale combination **\n",
    "\n",
    "** Also you can't \"short\" a stock, you must buy *before* you sell the stock. **"
   ]
  },
  {
   "cell_type": "markdown",
   "metadata": {},
   "source": [
    "# Good Luck!"
   ]
  },
  {
   "cell_type": "code",
   "execution_count": 9,
   "metadata": {},
   "outputs": [],
   "source": [
    "def profit(prices):\n",
    "    \"\"\"\n",
    "    My solution: Greedy algorithm O(N)\n",
    "    \"\"\"\n",
    "\n",
    "    best_profit = 0\n",
    "    initial_val = prices[0]\n",
    "\n",
    "    for i in range(1,len(prices)):\n",
    "        \n",
    "        profit = prices[i] - initial_val\n",
    "        print (prices[i], profit)\n",
    "        if profit<0:\n",
    "            initial_val = prices[i]\n",
    "        \n",
    "        if profit > best_profit:\n",
    "            best_profit = profit\n",
    "    \n",
    "    return profit\n"
   ]
  },
  {
   "source": [
    "def profit(prices):\n",
    "    \"\"\"Their solution 1 Using max and min instead of if O(N)\"\"\"\n",
    "\n",
    "    best_profit = 0\n",
    "    min_val = prices[0]\n",
    "\n",
    "    for price in prices[1:]:\n",
    "        min_val = min(min_val, price)\n",
    "        profit = price - min_val\n",
    "\n",
    "        best_profit = max(profit, best_profit)\n",
    "    return best_profit\n"
   ],
   "cell_type": "code",
   "metadata": {},
   "execution_count": 12,
   "outputs": []
  },
  {
   "cell_type": "code",
   "execution_count": 16,
   "metadata": {},
   "outputs": [],
   "source": [
    "def profit(prices):\n",
    "    \"\"\"\n",
    "    Taking into account two edge cases\n",
    "    1. Prices has less than two values\n",
    "    2. prices is always decending\n",
    "    \"\"\"\n",
    "\n",
    "    # first edge case\n",
    "    if len(prices)<2:\n",
    "        raise Exception(\"The prices list needs to have at least 2 values\")\n",
    "    \n",
    "\n",
    "    # Price is always decending, I need to set a \"best\" negative value \n",
    "\n",
    "    best_profit = prices[1] - prices[0]\n",
    "\n",
    "    min_val = prices[0]\n",
    "\n",
    "    for price in prices[1:]:\n",
    "\n",
    "        profit = price - min_val\n",
    "        \n",
    "        min_val = min(min_val, price)\n",
    "        best_profit = max(profit, best_profit)\n",
    "\n",
    "    return best_profit"
   ]
  },
  {
   "cell_type": "code",
   "execution_count": 17,
   "metadata": {},
   "outputs": [
    {
     "output_type": "execute_result",
     "data": {
      "text/plain": [
       "7"
      ]
     },
     "metadata": {},
     "execution_count": 17
    }
   ],
   "source": [
    "prices = [12,11,15,3,10]\n",
    "profit(prices)"
   ]
  },
  {
   "cell_type": "code",
   "execution_count": null,
   "metadata": {},
   "outputs": [],
   "source": []
  }
 ],
 "metadata": {
  "kernelspec": {
   "name": "python3",
   "display_name": "Python 3.7.9 64-bit ('simon3': conda)",
   "metadata": {
    "interpreter": {
     "hash": "cacdde318d08a46d07035f2dd41348c7e0164a68186675573f13e987da9ac40f"
    }
   }
  },
  "language_info": {
   "codemirror_mode": {
    "name": "ipython",
    "version": 2
   },
   "file_extension": ".py",
   "mimetype": "text/x-python",
   "name": "python",
   "nbconvert_exporter": "python",
   "pygments_lexer": "ipython2",
   "version": "3.7.9-final"
  }
 },
 "nbformat": 4,
 "nbformat_minor": 0
}